{
 "cells": [
  {
   "cell_type": "markdown",
   "id": "9d3a1e68",
   "metadata": {},
   "source": [
    "# Compilación de dataset de acordes\n",
    "Este notebook recorre todos los archivos .txt de la base de datos original y genera un DataFrame con la estructura: ['title', 'composedby', 'key', 'timesig', 'bars', 'chordprog']."
   ]
  },
  {
   "cell_type": "code",
   "execution_count": 25,
   "id": "6eca1342",
   "metadata": {},
   "outputs": [],
   "source": [
    "import os\n",
    "import pandas as pd"
   ]
  },
  {
   "cell_type": "markdown",
   "id": "6aa5ba11",
   "metadata": {},
   "source": [
    "## Función para extraer los datos de un archivo .txt de canción"
   ]
  },
  {
   "cell_type": "code",
   "execution_count": 26,
   "id": "37ad9a9f",
   "metadata": {},
   "outputs": [],
   "source": [
    "def parse_song_file(filepath):\n",
    "    \"\"\"Esta función parsea los archivos de canción en formato .txt \n",
    "    y genera un diccionario que contiene:\n",
    "    ['title', 'composedby', 'key', 'timesig', 'bars', 'chordprog'].\"\"\" \n",
    "    with open(filepath, 'r', encoding='utf-8') as f:\n",
    "        lines = f.readlines()\n",
    "    data = {}\n",
    "    chord_lines = []\n",
    "    for line in lines:\n",
    "        line = line.strip()\n",
    "        if line.startswith('Title ='):\n",
    "            data['title'] = line.split('=',1)[1].strip()\n",
    "        elif line.startswith('ComposedBy ='):\n",
    "            data['composedby'] = line.split('=',1)[1].strip()\n",
    "        elif line.startswith('DBKeySig ='):\n",
    "            data['key'] = line.split('=',1)[1].strip()\n",
    "        elif line.startswith('TimeSig ='):\n",
    "            data['timesig'] = line.split('=',1)[1].strip()\n",
    "        elif line.startswith('Bars ='):\n",
    "            bars = line.split('=',1)[1].strip()\n",
    "            data['bars'] = int(bars) if bars.isdigit() else bars\n",
    "        elif line:\n",
    "            chord_lines.append(line)\n",
    "    data['chordprog'] = '\\n'.join(chord_lines)\n",
    "    return data"
   ]
  },
  {
   "cell_type": "code",
   "execution_count": null,
   "id": "02c469ca",
   "metadata": {},
   "outputs": [
    {
     "name": "stdout",
     "output_type": "stream",
     "text": [
      "title:\n",
      "26-2\n",
      "composedby:\n",
      "John Coltrane\n",
      "key:\n",
      "F\n",
      "timesig:\n",
      "4 4\n",
      "bars:\n",
      "32\n",
      "chordprog:\n",
      "FM7 Ab7 | DbM7 E7 | AM7 C7 | Cm7 F7 |\n",
      "BbM7 C#7 | F#M7 A7 | Dm7 G7 | Gm7 C7 |\n",
      "FM7 Ab7 | DbM7 E7 | AM7 C7 | Cm7 F7 |\n",
      "BbM7 Ab7 | DbM7 E7/B | AM7 C7 | FM7 |\n",
      "Cm7 F7 | Em7 A7 | DM7 F7 | BbM7 |\n",
      "Ebm7 | Ab7 | DbM7 | Gm7 C7 |\n",
      "FM7 Ab7 | DbM7 E7 | AM7 C7 | Cm7 F7 |\n",
      "BbM7 Ab7 | DbM7 E7/B | AM7 C7 | FM7 |\n"
     ]
    }
   ],
   "source": [
    "# Prueba con una sola canción antes de procesar todo el dataset\n",
    "test_file = '../../data/SongDB/Songs[#,A-G]/26-2.txt'\n",
    "test_record = parse_song_file(test_file)\n",
    "for k, v in test_record.items():\n",
    "    print(f'{k}:\\n{v}')"
   ]
  },
  {
   "cell_type": "markdown",
   "id": "1b75691b",
   "metadata": {},
   "source": [
    "## Recorremos todos los archivos .txt y compilamos el DataFrame"
   ]
  },
  {
   "cell_type": "code",
   "execution_count": null,
   "id": "437af2bb",
   "metadata": {},
   "outputs": [
    {
     "data": {
      "text/html": [
       "<div>\n",
       "<style scoped>\n",
       "    .dataframe tbody tr th:only-of-type {\n",
       "        vertical-align: middle;\n",
       "    }\n",
       "\n",
       "    .dataframe tbody tr th {\n",
       "        vertical-align: top;\n",
       "    }\n",
       "\n",
       "    .dataframe thead th {\n",
       "        text-align: right;\n",
       "    }\n",
       "</style>\n",
       "<table border=\"1\" class=\"dataframe\">\n",
       "  <thead>\n",
       "    <tr style=\"text-align: right;\">\n",
       "      <th></th>\n",
       "      <th>title</th>\n",
       "      <th>composedby</th>\n",
       "      <th>key</th>\n",
       "      <th>timesig</th>\n",
       "      <th>bars</th>\n",
       "      <th>chordprog</th>\n",
       "    </tr>\n",
       "  </thead>\n",
       "  <tbody>\n",
       "    <tr>\n",
       "      <th>0</th>\n",
       "      <td>Lullaby of Birdland</td>\n",
       "      <td>George Shearing</td>\n",
       "      <td>Ab</td>\n",
       "      <td>4 4</td>\n",
       "      <td>32</td>\n",
       "      <td>Fm7 Dm7b5 | G7b9 C7b9 | Fm7 DbM7 | Bbm7 Eb7 |\\...</td>\n",
       "    </tr>\n",
       "    <tr>\n",
       "      <th>1</th>\n",
       "      <td>It's A Most Unusual Day</td>\n",
       "      <td>Jimmy McHugh and HYarold Adamson</td>\n",
       "      <td>G</td>\n",
       "      <td>3 4</td>\n",
       "      <td>72</td>\n",
       "      <td>F#/G F#/G G | Em7 | Am7 | D7 |\\nF#/G F#/G G | ...</td>\n",
       "    </tr>\n",
       "    <tr>\n",
       "      <th>2</th>\n",
       "      <td>Jump Monk</td>\n",
       "      <td>Charles Mingus</td>\n",
       "      <td>Ab</td>\n",
       "      <td>4 4</td>\n",
       "      <td>54</td>\n",
       "      <td>Fm7 DbM7 | G7b5 C7 | Fm7 DbM7 | G7b5 C7 |\\nFm7...</td>\n",
       "    </tr>\n",
       "    <tr>\n",
       "      <th>3</th>\n",
       "      <td>Nuages</td>\n",
       "      <td>Django Reinhardt and Jacques Larme</td>\n",
       "      <td>G</td>\n",
       "      <td>4 4</td>\n",
       "      <td>32</td>\n",
       "      <td>Bbm7 Eb7 | Am7b5 D7b9 | G6 Am7 | Bm7 |\\nBbm7 E...</td>\n",
       "    </tr>\n",
       "    <tr>\n",
       "      <th>4</th>\n",
       "      <td>Love Me Do</td>\n",
       "      <td>John Lennon and Paul McCartney</td>\n",
       "      <td>G</td>\n",
       "      <td>4 4</td>\n",
       "      <td>48</td>\n",
       "      <td>G | C | G | C |\\nG | C | C | C |\\nC | G | C | ...</td>\n",
       "    </tr>\n",
       "  </tbody>\n",
       "</table>\n",
       "</div>"
      ],
      "text/plain": [
       "                     title                          composedby key timesig  \\\n",
       "0      Lullaby of Birdland                     George Shearing  Ab     4 4   \n",
       "1  It's A Most Unusual Day    Jimmy McHugh and HYarold Adamson   G     3 4   \n",
       "2                Jump Monk                      Charles Mingus  Ab     4 4   \n",
       "3                   Nuages  Django Reinhardt and Jacques Larme   G     4 4   \n",
       "4               Love Me Do      John Lennon and Paul McCartney   G     4 4   \n",
       "\n",
       "   bars                                          chordprog  \n",
       "0    32  Fm7 Dm7b5 | G7b9 C7b9 | Fm7 DbM7 | Bbm7 Eb7 |\\...  \n",
       "1    72  F#/G F#/G G | Em7 | Am7 | D7 |\\nF#/G F#/G G | ...  \n",
       "2    54  Fm7 DbM7 | G7b5 C7 | Fm7 DbM7 | G7b5 C7 |\\nFm7...  \n",
       "3    32  Bbm7 Eb7 | Am7b5 D7b9 | G6 Am7 | Bm7 |\\nBbm7 E...  \n",
       "4    48  G | C | G | C |\\nG | C | C | C |\\nC | G | C | ...  "
      ]
     },
     "execution_count": 4,
     "metadata": {},
     "output_type": "execute_result"
    }
   ],
   "source": [
    "song_dir = '../../data/SongDB'\n",
    "song_files = []\n",
    "for root, dirs, files in os.walk(song_dir):\n",
    "    for file in files:\n",
    "        if file.endswith('.txt'):\n",
    "            song_files.append(os.path.join(root, file))\n",
    "\n",
    "records = []\n",
    "for f in song_files:\n",
    "    try:\n",
    "        record = parse_song_file(f)\n",
    "        records.append(record)\n",
    "    except Exception as e:\n",
    "        print(f'Error en {f}: {e}')\n",
    "\n",
    "df = pd.DataFrame(records)\n",
    "df.head()"
   ]
  },
  {
   "cell_type": "code",
   "execution_count": null,
   "id": "cedded0e",
   "metadata": {},
   "outputs": [
    {
     "name": "stdout",
     "output_type": "stream",
     "text": [
      "<class 'pandas.core.frame.DataFrame'>\n",
      "RangeIndex: 2614 entries, 0 to 2613\n",
      "Data columns (total 6 columns):\n",
      " #   Column      Non-Null Count  Dtype \n",
      "---  ------      --------------  ----- \n",
      " 0   title       2613 non-null   object\n",
      " 1   composedby  2614 non-null   object\n",
      " 2   key         2613 non-null   object\n",
      " 3   timesig     2614 non-null   object\n",
      " 4   bars        2614 non-null   int64 \n",
      " 5   chordprog   2614 non-null   object\n",
      "dtypes: int64(1), object(5)\n",
      "memory usage: 122.7+ KB\n"
     ]
    }
   ],
   "source": [
    "print(df.info())"
   ]
  },
  {
   "cell_type": "code",
   "execution_count": null,
   "id": "17a460b0",
   "metadata": {},
   "outputs": [],
   "source": [
    "# # Guardar el DataFrame en un archivo CSV\n",
    "# df.to_csv('../../data/songdb.csv', index=False)"
   ]
  },
  {
   "cell_type": "markdown",
   "id": "7e518386",
   "metadata": {},
   "source": [
    "## Breve exploración del dataset obtenido"
   ]
  },
  {
   "cell_type": "code",
   "execution_count": null,
   "id": "bb868a06",
   "metadata": {},
   "outputs": [],
   "source": [
    "df=pd.read_csv('../../data/songdb.csv')"
   ]
  },
  {
   "cell_type": "markdown",
   "id": "74147099",
   "metadata": {},
   "source": [
    "### Revisamos los valores nulos\n",
    "Corregimos manualmente un par de lineas, con erratas leves."
   ]
  },
  {
   "cell_type": "code",
   "execution_count": 30,
   "id": "fadc912f",
   "metadata": {},
   "outputs": [
    {
     "data": {
      "text/html": [
       "<div>\n",
       "<style scoped>\n",
       "    .dataframe tbody tr th:only-of-type {\n",
       "        vertical-align: middle;\n",
       "    }\n",
       "\n",
       "    .dataframe tbody tr th {\n",
       "        vertical-align: top;\n",
       "    }\n",
       "\n",
       "    .dataframe thead th {\n",
       "        text-align: right;\n",
       "    }\n",
       "</style>\n",
       "<table border=\"1\" class=\"dataframe\">\n",
       "  <thead>\n",
       "    <tr style=\"text-align: right;\">\n",
       "      <th></th>\n",
       "      <th>title</th>\n",
       "      <th>composedby</th>\n",
       "      <th>key</th>\n",
       "      <th>timesig</th>\n",
       "      <th>bars</th>\n",
       "      <th>chordprog</th>\n",
       "    </tr>\n",
       "  </thead>\n",
       "  <tbody>\n",
       "    <tr>\n",
       "      <th>390</th>\n",
       "      <td>On A Misty Night</td>\n",
       "      <td>Tadd Dameron</td>\n",
       "      <td>NaN</td>\n",
       "      <td>4 4</td>\n",
       "      <td>32</td>\n",
       "      <td>DB Key = Eb\\nEbM7 Gm7 | Cm7 Gm7 F#m7 Fm7 | Fm7...</td>\n",
       "    </tr>\n",
       "    <tr>\n",
       "      <th>2171</th>\n",
       "      <td>NaN</td>\n",
       "      <td>Dizzy Gillespie</td>\n",
       "      <td>C</td>\n",
       "      <td>4 4</td>\n",
       "      <td>32</td>\n",
       "      <td>mpTitle = Bebop\\nFm7 Go7 | Fm7/Ab Go7 | Fm7/C ...</td>\n",
       "    </tr>\n",
       "  </tbody>\n",
       "</table>\n",
       "</div>"
      ],
      "text/plain": [
       "                 title       composedby  key timesig  bars  \\\n",
       "390   On A Misty Night     Tadd Dameron  NaN     4 4    32   \n",
       "2171               NaN  Dizzy Gillespie    C     4 4    32   \n",
       "\n",
       "                                              chordprog  \n",
       "390   DB Key = Eb\\nEbM7 Gm7 | Cm7 Gm7 F#m7 Fm7 | Fm7...  \n",
       "2171  mpTitle = Bebop\\nFm7 Go7 | Fm7/Ab Go7 | Fm7/C ...  "
      ]
     },
     "execution_count": 30,
     "metadata": {},
     "output_type": "execute_result"
    }
   ],
   "source": [
    "# mostrar filas con Nan\n",
    "df[df.isna().any(axis=1)]"
   ]
  },
  {
   "cell_type": "code",
   "execution_count": 31,
   "id": "6f04a20e",
   "metadata": {},
   "outputs": [
    {
     "data": {
      "text/html": [
       "<div>\n",
       "<style scoped>\n",
       "    .dataframe tbody tr th:only-of-type {\n",
       "        vertical-align: middle;\n",
       "    }\n",
       "\n",
       "    .dataframe tbody tr th {\n",
       "        vertical-align: top;\n",
       "    }\n",
       "\n",
       "    .dataframe thead th {\n",
       "        text-align: right;\n",
       "    }\n",
       "</style>\n",
       "<table border=\"1\" class=\"dataframe\">\n",
       "  <thead>\n",
       "    <tr style=\"text-align: right;\">\n",
       "      <th></th>\n",
       "      <th>title</th>\n",
       "      <th>composedby</th>\n",
       "      <th>key</th>\n",
       "      <th>timesig</th>\n",
       "      <th>bars</th>\n",
       "      <th>chordprog</th>\n",
       "    </tr>\n",
       "  </thead>\n",
       "  <tbody>\n",
       "    <tr>\n",
       "      <th>390</th>\n",
       "      <td>On A Misty Night</td>\n",
       "      <td>Tadd Dameron</td>\n",
       "      <td>NaN</td>\n",
       "      <td>4 4</td>\n",
       "      <td>32</td>\n",
       "      <td>DB Key = Eb\\nEbM7 Gm7 | Cm7 Gm7 F#m7 Fm7 | Fm7...</td>\n",
       "    </tr>\n",
       "  </tbody>\n",
       "</table>\n",
       "</div>"
      ],
      "text/plain": [
       "                title    composedby  key timesig  bars  \\\n",
       "390  On A Misty Night  Tadd Dameron  NaN     4 4    32   \n",
       "\n",
       "                                             chordprog  \n",
       "390  DB Key = Eb\\nEbM7 Gm7 | Cm7 Gm7 F#m7 Fm7 | Fm7...  "
      ]
     },
     "execution_count": 31,
     "metadata": {},
     "output_type": "execute_result"
    }
   ],
   "source": [
    "df[df['title']=='On A Misty Night']"
   ]
  },
  {
   "cell_type": "code",
   "execution_count": 32,
   "id": "921d108c",
   "metadata": {},
   "outputs": [
    {
     "data": {
      "text/html": [
       "<div>\n",
       "<style scoped>\n",
       "    .dataframe tbody tr th:only-of-type {\n",
       "        vertical-align: middle;\n",
       "    }\n",
       "\n",
       "    .dataframe tbody tr th {\n",
       "        vertical-align: top;\n",
       "    }\n",
       "\n",
       "    .dataframe thead th {\n",
       "        text-align: right;\n",
       "    }\n",
       "</style>\n",
       "<table border=\"1\" class=\"dataframe\">\n",
       "  <thead>\n",
       "    <tr style=\"text-align: right;\">\n",
       "      <th></th>\n",
       "      <th>title</th>\n",
       "      <th>composedby</th>\n",
       "      <th>key</th>\n",
       "      <th>timesig</th>\n",
       "      <th>bars</th>\n",
       "      <th>chordprog</th>\n",
       "    </tr>\n",
       "  </thead>\n",
       "  <tbody>\n",
       "    <tr>\n",
       "      <th>390</th>\n",
       "      <td>On A Misty Night</td>\n",
       "      <td>Tadd Dameron</td>\n",
       "      <td>Eb</td>\n",
       "      <td>4 4</td>\n",
       "      <td>32</td>\n",
       "      <td>EbM7 Gm7 | Cm7 Gm7 F#m7 Fm7 | Fm7 | Fm7 |\\nDb7...</td>\n",
       "    </tr>\n",
       "  </tbody>\n",
       "</table>\n",
       "</div>"
      ],
      "text/plain": [
       "                title    composedby key timesig  bars  \\\n",
       "390  On A Misty Night  Tadd Dameron  Eb     4 4    32   \n",
       "\n",
       "                                             chordprog  \n",
       "390  EbM7 Gm7 | Cm7 Gm7 F#m7 Fm7 | Fm7 | Fm7 |\\nDb7...  "
      ]
     },
     "execution_count": 32,
     "metadata": {},
     "output_type": "execute_result"
    }
   ],
   "source": [
    "# eliminamos DB Key = Eb\\n de la columna 'chordprog' en el registro 390\n",
    "df.at[390, 'chordprog'] = df.at[390, 'chordprog'].replace('DB Key = Eb\\n', '')\n",
    "# Asignamos Eb a la columna 'key' en el registro 390\n",
    "df.at[390, 'key'] = 'Eb'\n",
    "df[df['title']=='On A Misty Night']"
   ]
  },
  {
   "cell_type": "code",
   "execution_count": 33,
   "id": "924d4a67",
   "metadata": {},
   "outputs": [
    {
     "data": {
      "text/html": [
       "<div>\n",
       "<style scoped>\n",
       "    .dataframe tbody tr th:only-of-type {\n",
       "        vertical-align: middle;\n",
       "    }\n",
       "\n",
       "    .dataframe tbody tr th {\n",
       "        vertical-align: top;\n",
       "    }\n",
       "\n",
       "    .dataframe thead th {\n",
       "        text-align: right;\n",
       "    }\n",
       "</style>\n",
       "<table border=\"1\" class=\"dataframe\">\n",
       "  <thead>\n",
       "    <tr style=\"text-align: right;\">\n",
       "      <th></th>\n",
       "      <th>title</th>\n",
       "      <th>composedby</th>\n",
       "      <th>key</th>\n",
       "      <th>timesig</th>\n",
       "      <th>bars</th>\n",
       "      <th>chordprog</th>\n",
       "    </tr>\n",
       "  </thead>\n",
       "  <tbody>\n",
       "    <tr>\n",
       "      <th>2171</th>\n",
       "      <td>Bebop</td>\n",
       "      <td>Dizzy Gillespie</td>\n",
       "      <td>C</td>\n",
       "      <td>4 4</td>\n",
       "      <td>32</td>\n",
       "      <td>Fm7 Go7 | Fm7/Ab Go7 | Fm7/C | Gm7b5 C7b9 |\\nF...</td>\n",
       "    </tr>\n",
       "  </tbody>\n",
       "</table>\n",
       "</div>"
      ],
      "text/plain": [
       "      title       composedby key timesig  bars  \\\n",
       "2171  Bebop  Dizzy Gillespie   C     4 4    32   \n",
       "\n",
       "                                              chordprog  \n",
       "2171  Fm7 Go7 | Fm7/Ab Go7 | Fm7/C | Gm7b5 C7b9 |\\nF...  "
      ]
     },
     "execution_count": 33,
     "metadata": {},
     "output_type": "execute_result"
    }
   ],
   "source": [
    "# eliminamos mpTitle = Bebop\\n de la columna 'chordprog' en el registro 2171\n",
    "df.at[2171, 'chordprog'] = df.at[2171, 'chordprog'].replace('mpTitle = Bebop\\n', '')\n",
    "# Asignamos Bebop a la columna 'title' en el registro 2171\n",
    "df.at[2171, 'title'] = 'Bebop'\n",
    "df[df['title']=='Bebop']"
   ]
  },
  {
   "cell_type": "markdown",
   "id": "a58a6e9c",
   "metadata": {},
   "source": [
    "## Echamos un vistazo a la columna 'key'\n",
    "Observamos que todas los registros indican una tonalidad mayor. Esto es una convención. Pero trataremos de mejorar esta representación incluyendo también tonalidades menores donde sea apropiado."
   ]
  },
  {
   "cell_type": "code",
   "execution_count": 36,
   "id": "0f3be603",
   "metadata": {},
   "outputs": [
    {
     "data": {
      "text/plain": [
       "key\n",
       "C     857\n",
       "F     488\n",
       "Eb    401\n",
       "Bb    349\n",
       "G     214\n",
       "Ab    144\n",
       "Db     65\n",
       "D      47\n",
       "A      19\n",
       "Gb     14\n",
       "E      13\n",
       "B       2\n",
       "U       1\n",
       "Name: count, dtype: int64"
      ]
     },
     "execution_count": 36,
     "metadata": {},
     "output_type": "execute_result"
    }
   ],
   "source": [
    "df['key'].value_counts()"
   ]
  },
  {
   "cell_type": "code",
   "execution_count": 37,
   "id": "104f4d1e",
   "metadata": {},
   "outputs": [
    {
     "name": "stdout",
     "output_type": "stream",
     "text": [
      "Cm7b9 | Dm7b9 | Ebm7b9 | Em7b9 |\n",
      "Cm7b9 | Dm7b9 | Ebm7b9 | Em7b9 |\n",
      "Cm7b9 | Dm7b9 | Ebm7b9 | Em7b9 |\n",
      "Cm7b9 | Dm7b9 | Ebm7b9 | F9sus4 |\n"
     ]
    }
   ],
   "source": [
    "# Mostrar canciones con key == U\n",
    "rarekey = df[df['key'] == 'U']['chordprog']\n",
    "for line in rarekey:\n",
    "    print(line)"
   ]
  },
  {
   "cell_type": "markdown",
   "id": "10ae5a66",
   "metadata": {},
   "source": [
    "Se trata de una pieza atonal (modal), por eso es normal que no tenga asignada una tonalidad. Vamos a prescindir de este registro para nuestro dataset."
   ]
  },
  {
   "cell_type": "code",
   "execution_count": 38,
   "id": "2daac4c1",
   "metadata": {},
   "outputs": [],
   "source": [
    "# Eliminamos el registro donde key == U\n",
    "df = df[df['key'] != 'U']"
   ]
  },
  {
   "cell_type": "code",
   "execution_count": 39,
   "id": "421732f7",
   "metadata": {},
   "outputs": [
    {
     "name": "stdout",
     "output_type": "stream",
     "text": [
      "<class 'pandas.core.frame.DataFrame'>\n",
      "Index: 2613 entries, 0 to 2613\n",
      "Data columns (total 6 columns):\n",
      " #   Column      Non-Null Count  Dtype \n",
      "---  ------      --------------  ----- \n",
      " 0   title       2613 non-null   object\n",
      " 1   composedby  2613 non-null   object\n",
      " 2   key         2613 non-null   object\n",
      " 3   timesig     2613 non-null   object\n",
      " 4   bars        2613 non-null   int64 \n",
      " 5   chordprog   2613 non-null   object\n",
      "dtypes: int64(1), object(5)\n",
      "memory usage: 142.9+ KB\n"
     ]
    }
   ],
   "source": [
    "df.info()"
   ]
  },
  {
   "cell_type": "markdown",
   "id": "b579f4d1",
   "metadata": {},
   "source": [
    "## Exportamos el dataset de canciones compiladas"
   ]
  },
  {
   "cell_type": "code",
   "execution_count": null,
   "id": "6647ec6a",
   "metadata": {},
   "outputs": [],
   "source": [
    "df.to_csv('../../data/songdb.csv', index=False)"
   ]
  }
 ],
 "metadata": {
  "kernelspec": {
   "display_name": ".venv",
   "language": "python",
   "name": "python3"
  },
  "language_info": {
   "codemirror_mode": {
    "name": "ipython",
    "version": 3
   },
   "file_extension": ".py",
   "mimetype": "text/x-python",
   "name": "python",
   "nbconvert_exporter": "python",
   "pygments_lexer": "ipython3",
   "version": "3.12.2"
  }
 },
 "nbformat": 4,
 "nbformat_minor": 5
}
