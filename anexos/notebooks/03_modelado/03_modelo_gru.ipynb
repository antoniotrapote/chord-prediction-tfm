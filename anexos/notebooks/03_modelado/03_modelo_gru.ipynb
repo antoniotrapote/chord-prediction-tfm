{
  "cells": [
    {
      "cell_type": "markdown",
      "id": "5e4e389d",
      "metadata": {
        "id": "5e4e389d"
      },
      "source": [
        "**Nota**: Se recomienda ejecutar este notebook en Google Colab para asegurar la compatibilidad y evitar problemas de dependencias. El entrenamiento de los modelos requiere una cantidad significativa de memoria RAM y potencia de cómputo, que puede no estar disponible en todos los entornos locales.\n",
        "\n",
        "[![Open In Colab](https://colab.research.google.com/assets/colab-badge.svg)](https://colab.research.google.com/github/antoniotrapote/chord-prediction-tfm/blob/main/anexos/notebooks/03_modelado/03_modelo_gru.ipynb)\n",
        "[![View on GitHub](https://img.shields.io/badge/View_on-GitHub-black?logo=github)](https://github.com/antoniotrapote/chord-prediction-tfm/blob/main/anexos/notebooks/03_modelado/03_modelo_gru.ipynb)"
      ]
    },
    {
      "cell_type": "markdown",
      "id": "c46a9d23",
      "metadata": {
        "id": "c46a9d23"
      },
      "source": [
        "# Gated Recurrent Unit (GRU) model - Pytorch\n",
        "\n",
        "Hemos utilizado PyTorch para implementar y entrenar un modelo de red neuronal recurrente basado en Gated Recurrent Units (GRU) para la predicción de acordes en secuencias musicales.\n",
        "\n",
        "El último dataset utilizado fue `songdb_funcional_v4`\n",
        "\n",
        "Contenido del notebook:\n",
        "1. Entorno (Colab) - comprobación de versiones\n",
        "2. Configuración de parámetros\n",
        "3. Traer el CSV a Colab\n"
      ]
    },
    {
      "cell_type": "code",
      "execution_count": 1,
      "id": "f6c127d9",
      "metadata": {
        "id": "f6c127d9"
      },
      "outputs": [],
      "source": [
        "import pandas as pd\n",
        "import numpy as np\n",
        "import re\n",
        "from collections import Counter, defaultdict\n",
        "from pathlib import Path\n",
        "from typing import List, Tuple, Dict"
      ]
    },
    {
      "cell_type": "markdown",
      "id": "5ce68bab",
      "metadata": {
        "id": "5ce68bab"
      },
      "source": [
        "## 1) Entorno (Colab)\n",
        "El modelo fue entrenado en Google Colab, con las siguientes especificaciones:\n",
        ">Python: 3.12.11 (main, Jun  4 2025, 08:56:18) [GCC 11.4.0]  \n",
        ">PyTorch: 2.8.0+cu126  \n",
        ">CUDA disponible: True  \n",
        ">GPU: Tesla T4"
      ]
    },
    {
      "cell_type": "code",
      "execution_count": 2,
      "id": "4c816e35",
      "metadata": {
        "colab": {
          "base_uri": "https://localhost:8080/"
        },
        "id": "4c816e35",
        "outputId": "6e2088fd-2099-4c20-f7a0-6d6d974a7a08"
      },
      "outputs": [
        {
          "name": "stdout",
          "output_type": "stream",
          "text": [
            "Python: 3.12.11 (main, Jun  4 2025, 08:56:18) [GCC 11.4.0]\n",
            "PyTorch: 2.8.0+cu126\n",
            "CUDA disponible: True\n",
            "GPU: Tesla T4\n"
          ]
        }
      ],
      "source": [
        "#@title Comprobar GPU/versions\n",
        "import sys, torch\n",
        "print(\"Python:\", sys.version)\n",
        "print(\"PyTorch:\", torch.__version__)\n",
        "print(\"CUDA disponible:\", torch.cuda.is_available())\n",
        "if torch.cuda.is_available():\n",
        "    print(\"GPU:\", torch.cuda.get_device_name(0))\n",
        "else:\n",
        "    print(\"⚠️ Activa GPU: Runtime ▶ Change runtime type ▶ GPU\")\n"
      ]
    },
    {
      "cell_type": "markdown",
      "id": "73a81959",
      "metadata": {
        "id": "73a81959"
      },
      "source": [
        "## 2) Traer el CSV desde GitHub\n",
        "Descargamos directamente el dataset procesado desde el repositorio."
      ]
    },
    {
      "cell_type": "code",
      "execution_count": null,
      "id": "45857b6e",
      "metadata": {
        "colab": {
          "base_uri": "https://localhost:8080/"
        },
        "id": "45857b6e",
        "outputId": "f3a30e77-991f-4526-8a92-eb54ae26e812"
      },
      "outputs": [
        {
          "data": {
            "text/plain": [
              "('/content/songdb_funcional_v4.csv',\n",
              " <http.client.HTTPMessage at 0x7bf810b7b920>)"
            ]
          },
          "execution_count": 4,
          "metadata": {},
          "output_type": "execute_result"
        }
      ],
      "source": [
        "import urllib.request\n",
        "\n",
        "# Configuración para descargar el dataset desde GitHub\n",
        "USER = \"antoniotrapote\"\n",
        "REPO = \"chord-prediction-tfm\"\n",
        "BRANCH = \"main\"\n",
        "PATH_IN_REPO = \"anexos/data/songdb_funcional_v4.csv\"\n",
        "URL = f\"https://raw.githubusercontent.com/{USER}/{REPO}/{BRANCH}/{PATH_IN_REPO}\"\n",
        "\n",
        "# Ruta local donde guardar el archivo\n",
        "data_path = \"/content/songdb_funcional_v4.csv\"\n",
        "\n",
        "# Descargar el archivo CSV desde GitHub\n",
        "urllib.request.urlretrieve(URL, data_path)\n",
        "print(f\"Dataset descargado en: {data_path}\")"
      ]
    },
    {
      "cell_type": "markdown",
      "id": "8f2afd05",
      "metadata": {
        "id": "8f2afd05"
      },
      "source": [
        "## 3) Cargar CSV y tokenizar (whitespace)"
      ]
    },
    {
      "cell_type": "code",
      "execution_count": null,
      "id": "6916af6e",
      "metadata": {
        "colab": {
          "base_uri": "https://localhost:8080/",
          "height": 178
        },
        "id": "6916af6e",
        "outputId": "1bdbcb1f-b83b-4f86-cd56-7c4cdbef3ca4"
      },
      "outputs": [
        {
          "name": "stdout",
          "output_type": "stream",
          "text": [
            "Filas totales: 2613\n"
          ]
        },
        {
          "data": {
            "application/vnd.google.colaboratory.intrinsic+json": {
              "summary": "{\n  \"name\": \"print(\\\"Filas tras filtro min_seq_len:\\\", len(df))\",\n  \"rows\": 3,\n  \"fields\": [\n    {\n      \"column\": \"funcional_prog\",\n      \"properties\": {\n        \"dtype\": \"string\",\n        \"num_unique_values\": 3,\n        \"samples\": [\n          \"vi #iv\\u00f8 V/III V/VI vi IV ii V7 iii vi ii V7 I IV7 vii\\u00f8 V/VI vi #iv\\u00f8 V/III V/VI vi IV ii V7 iii vi ii V7 I V7 I V/II ii ii V7 I V/II ii V7 I V/VI vi #iv\\u00f8 V/III V/VI vi IV ii V7 iii vi ii V7 I V7 I III7\",\n          \"VII VII I vi ii V7 VII VII I vi ii V7 I IV #ivo I iii vi V/V V7 VII VII I vi ii V7 VII VII I vi ii V7 I IV #ivo I ii V7 I I vi bvi v V/IV IV IV vi bvi v V/IV IV IV vii bvii vi V/V V V ii V7 ii V7 VII VII I vi ii V7 VII VII I vi ii V7 I IV #ivo I iii vi V/V V7 iii IV iii IV iii ii ii V7 I V7\",\n          \"i VI V/V V7 i VI V/V V7 i VI ii\\u00f8 V7 i VI ii\\u00f8 V7 i i Vsub/V V7 iv iv ii\\u00f8 bII7 iv bII v\\u00f8 V/IV iv bII v\\u00f8 V/IV iv bII v\\u00f8 V/IV iv Vsub/II ii\\u00f8 V7 i VI ii\\u00f8 V7 i VI ii\\u00f8 V7 i i Vsub/V V7 iv iv ii\\u00f8 bII7 bII bII\"\n        ],\n        \"semantic_type\": \"\",\n        \"description\": \"\"\n      }\n    }\n  ]\n}",
              "type": "dataframe"
            },
            "text/html": [
              "\n",
              "  <div id=\"df-47b6bd3c-ba53-4251-8541-749e2aab8e79\" class=\"colab-df-container\">\n",
              "    <div>\n",
              "<style scoped>\n",
              "    .dataframe tbody tr th:only-of-type {\n",
              "        vertical-align: middle;\n",
              "    }\n",
              "\n",
              "    .dataframe tbody tr th {\n",
              "        vertical-align: top;\n",
              "    }\n",
              "\n",
              "    .dataframe thead th {\n",
              "        text-align: right;\n",
              "    }\n",
              "</style>\n",
              "<table border=\"1\" class=\"dataframe\">\n",
              "  <thead>\n",
              "    <tr style=\"text-align: right;\">\n",
              "      <th></th>\n",
              "      <th>funcional_prog</th>\n",
              "    </tr>\n",
              "  </thead>\n",
              "  <tbody>\n",
              "    <tr>\n",
              "      <th>0</th>\n",
              "      <td>vi #ivø V/III V/VI vi IV ii V7 iii vi ii V7 I ...</td>\n",
              "    </tr>\n",
              "    <tr>\n",
              "      <th>1</th>\n",
              "      <td>VII VII I vi ii V7 VII VII I vi ii V7 I IV #iv...</td>\n",
              "    </tr>\n",
              "    <tr>\n",
              "      <th>2</th>\n",
              "      <td>i VI V/V V7 i VI V/V V7 i VI iiø V7 i VI iiø V...</td>\n",
              "    </tr>\n",
              "  </tbody>\n",
              "</table>\n",
              "</div>\n",
              "    <div class=\"colab-df-buttons\">\n",
              "\n",
              "  <div class=\"colab-df-container\">\n",
              "    <button class=\"colab-df-convert\" onclick=\"convertToInteractive('df-47b6bd3c-ba53-4251-8541-749e2aab8e79')\"\n",
              "            title=\"Convert this dataframe to an interactive table.\"\n",
              "            style=\"display:none;\">\n",
              "\n",
              "  <svg xmlns=\"http://www.w3.org/2000/svg\" height=\"24px\" viewBox=\"0 -960 960 960\">\n",
              "    <path d=\"M120-120v-720h720v720H120Zm60-500h600v-160H180v160Zm220 220h160v-160H400v160Zm0 220h160v-160H400v160ZM180-400h160v-160H180v160Zm440 0h160v-160H620v160ZM180-180h160v-160H180v160Zm440 0h160v-160H620v160Z\"/>\n",
              "  </svg>\n",
              "    </button>\n",
              "\n",
              "  <style>\n",
              "    .colab-df-container {\n",
              "      display:flex;\n",
              "      gap: 12px;\n",
              "    }\n",
              "\n",
              "    .colab-df-convert {\n",
              "      background-color: #E8F0FE;\n",
              "      border: none;\n",
              "      border-radius: 50%;\n",
              "      cursor: pointer;\n",
              "      display: none;\n",
              "      fill: #1967D2;\n",
              "      height: 32px;\n",
              "      padding: 0 0 0 0;\n",
              "      width: 32px;\n",
              "    }\n",
              "\n",
              "    .colab-df-convert:hover {\n",
              "      background-color: #E2EBFA;\n",
              "      box-shadow: 0px 1px 2px rgba(60, 64, 67, 0.3), 0px 1px 3px 1px rgba(60, 64, 67, 0.15);\n",
              "      fill: #174EA6;\n",
              "    }\n",
              "\n",
              "    .colab-df-buttons div {\n",
              "      margin-bottom: 4px;\n",
              "    }\n",
              "\n",
              "    [theme=dark] .colab-df-convert {\n",
              "      background-color: #3B4455;\n",
              "      fill: #D2E3FC;\n",
              "    }\n",
              "\n",
              "    [theme=dark] .colab-df-convert:hover {\n",
              "      background-color: #434B5C;\n",
              "      box-shadow: 0px 1px 3px 1px rgba(0, 0, 0, 0.15);\n",
              "      filter: drop-shadow(0px 1px 2px rgba(0, 0, 0, 0.3));\n",
              "      fill: #FFFFFF;\n",
              "    }\n",
              "  </style>\n",
              "\n",
              "    <script>\n",
              "      const buttonEl =\n",
              "        document.querySelector('#df-47b6bd3c-ba53-4251-8541-749e2aab8e79 button.colab-df-convert');\n",
              "      buttonEl.style.display =\n",
              "        google.colab.kernel.accessAllowed ? 'block' : 'none';\n",
              "\n",
              "      async function convertToInteractive(key) {\n",
              "        const element = document.querySelector('#df-47b6bd3c-ba53-4251-8541-749e2aab8e79');\n",
              "        const dataTable =\n",
              "          await google.colab.kernel.invokeFunction('convertToInteractive',\n",
              "                                                    [key], {});\n",
              "        if (!dataTable) return;\n",
              "\n",
              "        const docLinkHtml = 'Like what you see? Visit the ' +\n",
              "          '<a target=\"_blank\" href=https://colab.research.google.com/notebooks/data_table.ipynb>data table notebook</a>'\n",
              "          + ' to learn more about interactive tables.';\n",
              "        element.innerHTML = '';\n",
              "        dataTable['output_type'] = 'display_data';\n",
              "        await google.colab.output.renderOutput(dataTable, element);\n",
              "        const docLink = document.createElement('div');\n",
              "        docLink.innerHTML = docLinkHtml;\n",
              "        element.appendChild(docLink);\n",
              "      }\n",
              "    </script>\n",
              "  </div>\n",
              "\n",
              "\n",
              "    <div id=\"df-ce0a5ae0-3019-4ac3-9e7e-642532c63d89\">\n",
              "      <button class=\"colab-df-quickchart\" onclick=\"quickchart('df-ce0a5ae0-3019-4ac3-9e7e-642532c63d89')\"\n",
              "                title=\"Suggest charts\"\n",
              "                style=\"display:none;\">\n",
              "\n",
              "<svg xmlns=\"http://www.w3.org/2000/svg\" height=\"24px\"viewBox=\"0 0 24 24\"\n",
              "     width=\"24px\">\n",
              "    <g>\n",
              "        <path d=\"M19 3H5c-1.1 0-2 .9-2 2v14c0 1.1.9 2 2 2h14c1.1 0 2-.9 2-2V5c0-1.1-.9-2-2-2zM9 17H7v-7h2v7zm4 0h-2V7h2v10zm4 0h-2v-4h2v4z\"/>\n",
              "    </g>\n",
              "</svg>\n",
              "      </button>\n",
              "\n",
              "<style>\n",
              "  .colab-df-quickchart {\n",
              "      --bg-color: #E8F0FE;\n",
              "      --fill-color: #1967D2;\n",
              "      --hover-bg-color: #E2EBFA;\n",
              "      --hover-fill-color: #174EA6;\n",
              "      --disabled-fill-color: #AAA;\n",
              "      --disabled-bg-color: #DDD;\n",
              "  }\n",
              "\n",
              "  [theme=dark] .colab-df-quickchart {\n",
              "      --bg-color: #3B4455;\n",
              "      --fill-color: #D2E3FC;\n",
              "      --hover-bg-color: #434B5C;\n",
              "      --hover-fill-color: #FFFFFF;\n",
              "      --disabled-bg-color: #3B4455;\n",
              "      --disabled-fill-color: #666;\n",
              "  }\n",
              "\n",
              "  .colab-df-quickchart {\n",
              "    background-color: var(--bg-color);\n",
              "    border: none;\n",
              "    border-radius: 50%;\n",
              "    cursor: pointer;\n",
              "    display: none;\n",
              "    fill: var(--fill-color);\n",
              "    height: 32px;\n",
              "    padding: 0;\n",
              "    width: 32px;\n",
              "  }\n",
              "\n",
              "  .colab-df-quickchart:hover {\n",
              "    background-color: var(--hover-bg-color);\n",
              "    box-shadow: 0 1px 2px rgba(60, 64, 67, 0.3), 0 1px 3px 1px rgba(60, 64, 67, 0.15);\n",
              "    fill: var(--button-hover-fill-color);\n",
              "  }\n",
              "\n",
              "  .colab-df-quickchart-complete:disabled,\n",
              "  .colab-df-quickchart-complete:disabled:hover {\n",
              "    background-color: var(--disabled-bg-color);\n",
              "    fill: var(--disabled-fill-color);\n",
              "    box-shadow: none;\n",
              "  }\n",
              "\n",
              "  .colab-df-spinner {\n",
              "    border: 2px solid var(--fill-color);\n",
              "    border-color: transparent;\n",
              "    border-bottom-color: var(--fill-color);\n",
              "    animation:\n",
              "      spin 1s steps(1) infinite;\n",
              "  }\n",
              "\n",
              "  @keyframes spin {\n",
              "    0% {\n",
              "      border-color: transparent;\n",
              "      border-bottom-color: var(--fill-color);\n",
              "      border-left-color: var(--fill-color);\n",
              "    }\n",
              "    20% {\n",
              "      border-color: transparent;\n",
              "      border-left-color: var(--fill-color);\n",
              "      border-top-color: var(--fill-color);\n",
              "    }\n",
              "    30% {\n",
              "      border-color: transparent;\n",
              "      border-left-color: var(--fill-color);\n",
              "      border-top-color: var(--fill-color);\n",
              "      border-right-color: var(--fill-color);\n",
              "    }\n",
              "    40% {\n",
              "      border-color: transparent;\n",
              "      border-right-color: var(--fill-color);\n",
              "      border-top-color: var(--fill-color);\n",
              "    }\n",
              "    60% {\n",
              "      border-color: transparent;\n",
              "      border-right-color: var(--fill-color);\n",
              "    }\n",
              "    80% {\n",
              "      border-color: transparent;\n",
              "      border-right-color: var(--fill-color);\n",
              "      border-bottom-color: var(--fill-color);\n",
              "    }\n",
              "    90% {\n",
              "      border-color: transparent;\n",
              "      border-bottom-color: var(--fill-color);\n",
              "    }\n",
              "  }\n",
              "</style>\n",
              "\n",
              "      <script>\n",
              "        async function quickchart(key) {\n",
              "          const quickchartButtonEl =\n",
              "            document.querySelector('#' + key + ' button');\n",
              "          quickchartButtonEl.disabled = true;  // To prevent multiple clicks.\n",
              "          quickchartButtonEl.classList.add('colab-df-spinner');\n",
              "          try {\n",
              "            const charts = await google.colab.kernel.invokeFunction(\n",
              "                'suggestCharts', [key], {});\n",
              "          } catch (error) {\n",
              "            console.error('Error during call to suggestCharts:', error);\n",
              "          }\n",
              "          quickchartButtonEl.classList.remove('colab-df-spinner');\n",
              "          quickchartButtonEl.classList.add('colab-df-quickchart-complete');\n",
              "        }\n",
              "        (() => {\n",
              "          let quickchartButtonEl =\n",
              "            document.querySelector('#df-ce0a5ae0-3019-4ac3-9e7e-642532c63d89 button');\n",
              "          quickchartButtonEl.style.display =\n",
              "            google.colab.kernel.accessAllowed ? 'block' : 'none';\n",
              "        })();\n",
              "      </script>\n",
              "    </div>\n",
              "\n",
              "    </div>\n",
              "  </div>\n"
            ],
            "text/plain": [
              "                                      funcional_prog\n",
              "0  vi #ivø V/III V/VI vi IV ii V7 iii vi ii V7 I ...\n",
              "1  VII VII I vi ii V7 VII VII I vi ii V7 I IV #iv...\n",
              "2  i VI V/V V7 i VI V/V V7 i VI iiø V7 i VI iiø V..."
            ]
          },
          "metadata": {},
          "output_type": "display_data"
        },
        {
          "name": "stdout",
          "output_type": "stream",
          "text": [
            "Filas tras filtro min_seq_len: 2612\n"
          ]
        }
      ],
      "source": [
        "import pandas as pd, ast, re\n",
        "\n",
        "# Parámetros de filtrado\n",
        "sequence_col = \"funcional_prog\"  # Columna que contiene las secuencias de acordes\n",
        "min_seq_len = 8  # Ignorar secuencias muy cortas\n",
        "\n",
        "# Cargar el dataset\n",
        "df = pd.read_csv(data_path)\n",
        "assert sequence_col in df.columns, f\"Columna {sequence_col} no encontrada en el CSV.\"\n",
        "print(\"Filas totales:\", len(df))\n",
        "display(df[[sequence_col]].head(3))\n",
        "\n",
        "def parse_tokens_simple(s: str):\n",
        "    \"\"\"Convierte la secuencia de acordes en una lista de tokens\"\"\"\n",
        "    if isinstance(s, str) and s.strip().startswith(\"[\") and s.strip().endswith(\"]\"):\n",
        "        try:\n",
        "            lst = ast.literal_eval(s)\n",
        "            if isinstance(lst, list):\n",
        "                return [str(t) for t in lst]\n",
        "        except Exception:\n",
        "            pass\n",
        "    # Normaliza separadores de compás y saltos de línea a espacios\n",
        "    s = str(s).replace(\"|\", \" \").replace(\"\\n\", \" \")\n",
        "    toks = [t for t in re.findall(r\"\\S+\", s) if t.strip()]\n",
        "    return toks\n",
        "\n",
        "# Tokenizar y filtrar secuencias muy cortas\n",
        "df[\"_tokens_\"] = df[sequence_col].apply(parse_tokens_simple)\n",
        "df = df[df[\"_tokens_\"].apply(len) >= min_seq_len].reset_index(drop=True)\n",
        "print(f\"Filas tras filtro min_seq_len >= {min_seq_len}:\", len(df))"
      ]
    },
    {
      "cell_type": "markdown",
      "id": "a6efa6d6",
      "metadata": {
        "id": "a6efa6d6"
      },
      "source": [
        "## 4) Split train/val/test (simple, por filas)"
      ]
    },
    {
      "cell_type": "code",
      "execution_count": null,
      "id": "f6426eba",
      "metadata": {
        "colab": {
          "base_uri": "https://localhost:8080/"
        },
        "id": "f6426eba",
        "outputId": "c1db0b38-89e6-40bd-ac8d-22e340c8eaed"
      },
      "outputs": [
        {
          "name": "stdout",
          "output_type": "stream",
          "text": [
            "2089 261 262\n"
          ]
        }
      ],
      "source": [
        "from sklearn.model_selection import train_test_split\n",
        "\n",
        "# Parámetros de división del dataset\n",
        "val_size = 0.10     # 10% para validación\n",
        "test_size = 0.10    # 10% para test\n",
        "random_state = 42   # Semilla para reproducibilidad\n",
        "\n",
        "# Dividir en train/val/test\n",
        "train_df, tmp_df = train_test_split(df, test_size=val_size+test_size, random_state=random_state, shuffle=True)\n",
        "rel_test = test_size / (val_size + test_size) if (val_size + test_size) > 0 else 0.5\n",
        "val_df, test_df = train_test_split(tmp_df, test_size=rel_test, random_state=random_state, shuffle=True)\n",
        "\n",
        "# Extraer las secuencias tokenizadas\n",
        "train_seqs = train_df[\"_tokens_\"].tolist()\n",
        "val_seqs   = val_df[\"_tokens_\"].tolist()\n",
        "test_seqs  = test_df[\"_tokens_\"].tolist()\n",
        "\n",
        "print(f\"Train: {len(train_seqs)}, Val: {len(val_seqs)}, Test: {len(test_seqs)}\")"
      ]
    },
    {
      "cell_type": "markdown",
      "id": "8622e1a7",
      "metadata": {
        "id": "8622e1a7"
      },
      "source": [
        "## 5) Vocabulario y codificación"
      ]
    },
    {
      "cell_type": "code",
      "execution_count": null,
      "id": "39588251",
      "metadata": {
        "colab": {
          "base_uri": "https://localhost:8080/"
        },
        "id": "39588251",
        "outputId": "d7919cf1-425b-44a8-97ff-01e4c174d9d0"
      },
      "outputs": [
        {
          "name": "stdout",
          "output_type": "stream",
          "text": [
            "Vocab size: 86\n"
          ]
        }
      ],
      "source": [
        "from collections import Counter\n",
        "import json\n",
        "\n",
        "# Tokens especiales\n",
        "PAD, UNK, BOS, EOS = \"<pad>\", \"<unk>\", \"<bos>\", \"<eos>\"\n",
        "tokenizer_path = \"gru_tokenizer.json\"  # Nombre del archivo del tokenizer\n",
        "\n",
        "def build_vocab(seqs, min_freq=1):\n",
        "    \"\"\"Construye el vocabulario a partir de las secuencias de entrenamiento\"\"\"\n",
        "    c = Counter()\n",
        "    for s in seqs: \n",
        "        c.update(s)\n",
        "    \n",
        "    # Crear vocabulario: tokens especiales + tokens frecuentes\n",
        "    vocab = [PAD, UNK, BOS, EOS] + [t for t,f in c.items() if f >= min_freq and t not in {PAD,UNK,BOS,EOS}]\n",
        "    stoi = {t:i for i,t in enumerate(vocab)}  # string to index\n",
        "    itos = {i:t for t,i in stoi.items()}     # index to string\n",
        "    return vocab, stoi, itos\n",
        "\n",
        "# Construir vocabulario solo con datos de entrenamiento\n",
        "vocab, stoi, itos = build_vocab(train_seqs, min_freq=1)\n",
        "vocab_size = len(vocab)\n",
        "print(\"Tamaño del vocabulario:\", vocab_size)\n",
        "\n",
        "# Guardar el tokenizer para uso posterior\n",
        "with open(tokenizer_path, \"w\") as f:\n",
        "    json.dump({\"vocab\": vocab}, f, ensure_ascii=False, indent=2)\n",
        "print(f\"Tokenizer guardado en: {tokenizer_path}\")\n",
        "\n",
        "def encode(seq, add_bos=True):\n",
        "    \"\"\"Convierte una secuencia de tokens a índices numéricos\"\"\"\n",
        "    ids = [stoi[BOS]] if add_bos else []\n",
        "    ids += [stoi.get(t, stoi[UNK]) for t in seq]\n",
        "    return ids"
      ]
    },
    {
      "cell_type": "markdown",
      "id": "30a2c319",
      "metadata": {
        "id": "30a2c319"
      },
      "source": [
        "## 6) Dataset (context→next) y DataLoaders"
      ]
    },
    {
      "cell_type": "code",
      "execution_count": null,
      "id": "508cd745",
      "metadata": {
        "colab": {
          "base_uri": "https://localhost:8080/"
        },
        "id": "508cd745",
        "outputId": "a65cfd85-5a70-4997-a6eb-394306d2778b"
      },
      "outputs": [
        {
          "data": {
            "text/plain": [
              "(60979, 7044, 7669)"
            ]
          },
          "execution_count": 8,
          "metadata": {},
          "output_type": "execute_result"
        }
      ],
      "source": [
        "import torch\n",
        "from torch.utils.data import Dataset, DataLoader\n",
        "\n",
        "# Parámetros del modelo y entrenamiento\n",
        "seq_len = 24        # Longitud de secuencia de contexto\n",
        "batch_size = 128    # Tamaño del batch\n",
        "\n",
        "device = torch.device(\"cuda\" if torch.cuda.is_available() else \"cpu\")\n",
        "\n",
        "class NextTokenDataset(Dataset):\n",
        "    \"\"\"Dataset que genera pares (contexto, siguiente_token) para entrenamiento\"\"\"\n",
        "    def __init__(self, sequences, seq_len):\n",
        "        self.samples = []\n",
        "        for seq in sequences:\n",
        "            ids = encode(seq, add_bos=True)\n",
        "            if len(ids) <= seq_len: \n",
        "                continue\n",
        "            # Crear ventanas deslizantes de seq_len -> next_token\n",
        "            for i in range(seq_len, len(ids)):\n",
        "                self.samples.append((ids[i-seq_len:i], ids[i]))\n",
        "    \n",
        "    def __len__(self): \n",
        "        return len(self.samples)\n",
        "    \n",
        "    def __getitem__(self, idx):\n",
        "        x, y = self.samples[idx]\n",
        "        return torch.tensor(x, dtype=torch.long), torch.tensor(y, dtype=torch.long)\n",
        "\n",
        "# Crear datasets\n",
        "train_data = NextTokenDataset(train_seqs, seq_len)\n",
        "val_data   = NextTokenDataset(val_seqs, seq_len)\n",
        "test_data  = NextTokenDataset(test_seqs, seq_len)\n",
        "\n",
        "# Crear DataLoaders\n",
        "train_loader = DataLoader(train_data, batch_size=batch_size, shuffle=True, drop_last=True)\n",
        "val_loader   = DataLoader(val_data, batch_size=batch_size, shuffle=False)\n",
        "test_loader  = DataLoader(test_data, batch_size=batch_size, shuffle=False)\n",
        "\n",
        "print(f\"Muestras de entrenamiento: {len(train_data)}\")\n",
        "print(f\"Muestras de validación: {len(val_data)}\")\n",
        "print(f\"Muestras de test: {len(test_data)}\")"
      ]
    },
    {
      "cell_type": "markdown",
      "id": "abfd5605",
      "metadata": {
        "id": "abfd5605"
      },
      "source": [
        "## 7) Modelo GRU"
      ]
    },
    {
      "cell_type": "code",
      "execution_count": null,
      "id": "0fe182f4",
      "metadata": {
        "id": "0fe182f4"
      },
      "outputs": [],
      "source": [
        "import torch.nn as nn\n",
        "\n",
        "class ChordGRU(nn.Module):\n",
        "    \"\"\"\n",
        "    Modelo GRU para predicción de acordes musicales.\n",
        "    Arquitectura: Embedding -> GRU -> Dropout -> Linear\n",
        "    \"\"\"\n",
        "    def __init__(self, vocab_size, embedding_dim, hidden_size, num_layers, dropout):\n",
        "        super().__init__()\n",
        "        self.emb = nn.Embedding(vocab_size, embedding_dim)\n",
        "        self.rnn = nn.GRU(embedding_dim, hidden_size, num_layers=num_layers,\n",
        "                          batch_first=True, dropout=dropout if num_layers>1 else 0.0)\n",
        "        self.dropout = nn.Dropout(dropout)\n",
        "        self.fc = nn.Linear(hidden_size, vocab_size)\n",
        "    \n",
        "    def forward(self, x):\n",
        "        # x: (batch_size, seq_len)\n",
        "        e = self.emb(x)                    # (batch_size, seq_len, embedding_dim)\n",
        "        o, _ = self.rnn(e)                 # (batch_size, seq_len, hidden_size)\n",
        "        return self.fc(self.dropout(o[:, -1, :]))  # Solo último timestep -> (batch_size, vocab_size)\n",
        "\n",
        "# Parámetros del modelo (manteniendo los valores originales)\n",
        "embedding_dim = 128     # Dimensión de los embeddings\n",
        "hidden_size = 256       # Tamaño oculto del GRU\n",
        "num_layers = 2          # Número de capas GRU\n",
        "dropout = 0.2           # Tasa de dropout"
      ]
    },
    {
      "cell_type": "markdown",
      "id": "8a83d383",
      "metadata": {
        "id": "8a83d383"
      },
      "source": [
        "## 8) Entrenamiento y métricas (Top@K, MRR, PPL)"
      ]
    },
    {
      "cell_type": "code",
      "execution_count": null,
      "id": "66f6479c",
      "metadata": {
        "id": "66f6479c"
      },
      "outputs": [],
      "source": [
        "import math, time, os, torch\n",
        "import torch.nn.functional as F\n",
        "\n",
        "def topk_metrics(logits, targets, ks=(1,3,5)):\n",
        "    \"\"\"Calcula métricas Top@K y MRR\"\"\"\n",
        "    out = {}\n",
        "    with torch.no_grad():\n",
        "        for k in ks:\n",
        "            topk = logits.topk(k, dim=-1).indices\n",
        "            out[f\"Top@{k}\"] = (topk == targets.unsqueeze(1)).any(dim=1).float().mean().item()\n",
        "        # Mean Reciprocal Rank\n",
        "        ranks = (logits.argsort(dim=-1, descending=True) == targets.unsqueeze(1)).nonzero(as_tuple=False)[:,1] + 1\n",
        "        out[\"MRR\"] = (1.0 / ranks.float()).mean().item()\n",
        "    return out\n",
        "\n",
        "def evaluate(model, loader, criterion):\n",
        "    \"\"\"Evalúa el modelo en un conjunto de datos\"\"\"\n",
        "    model.eval()\n",
        "    total, n = 0.0, 0\n",
        "    agg = {\"Top@1\":0.0,\"Top@3\":0.0,\"Top@5\":0.0,\"MRR\":0.0}\n",
        "    with torch.no_grad():\n",
        "        for x,y in loader:\n",
        "            x,y = x.to(device), y.to(device)\n",
        "            logits = model(x)\n",
        "            loss = criterion(logits, y)\n",
        "            b = x.size(0); total += loss.item()*b; n += b\n",
        "            m = topk_metrics(logits, y)\n",
        "            for k in agg: agg[k] += m[k]*b\n",
        "    for k in agg: agg[k] /= max(1,n)\n",
        "    return {\"loss\": total/max(1,n), \"ppl\": math.exp(total/max(1,n)), **agg}\n",
        "\n",
        "def train_model(model, train_loader, val_loader, epochs, lr, weight_decay, grad_clip=1.0, amp=True, save_dir=\".\", save_name=\"best.pt\"):\n",
        "    \"\"\"Entrena el modelo GRU\"\"\"\n",
        "    os.makedirs(save_dir, exist_ok=True)\n",
        "    scaler = torch.cuda.amp.GradScaler(enabled=(amp and device.type=='cuda'))\n",
        "    opt = torch.optim.AdamW(model.parameters(), lr=lr, weight_decay=weight_decay)\n",
        "    crit = torch.nn.CrossEntropyLoss()\n",
        "    best_mrr, best_path = -1.0, os.path.join(save_dir, save_name)\n",
        "    \n",
        "    for ep in range(1, epochs+1):\n",
        "        model.train(); t0 = time.time()\n",
        "        for i,(x,y) in enumerate(train_loader,1):\n",
        "            x,y = x.to(device), y.to(device)\n",
        "            opt.zero_grad(set_to_none=True)\n",
        "            with torch.cuda.amp.autocast(enabled=(amp and device.type=='cuda')):\n",
        "                logits = model(x); loss = crit(logits,y)\n",
        "            scaler.scale(loss).backward()\n",
        "            if grad_clip is not None:\n",
        "                scaler.unscale_(opt)\n",
        "                torch.nn.utils.clip_grad_norm_(model.parameters(), grad_clip)\n",
        "            scaler.step(opt); scaler.update()\n",
        "            if i % 100 == 0: \n",
        "                print(f\"Ep{ep} step {i}/{len(train_loader)} loss {loss.item():.4f}\")\n",
        "        \n",
        "        # Evaluación en validación\n",
        "        valm = evaluate(model, val_loader, crit)\n",
        "        print(f\"Epoch {ep} | val loss {valm['loss']:.4f} ppl {valm['ppl']:.2f} Top@1 {valm['Top@1']:.3f} Top@3 {valm['Top@3']:.3f} Top@5 {valm['Top@5']:.3f} MRR {valm['MRR']:.3f}\")\n",
        "        \n",
        "        # Guardar mejor modelo basado en MRR\n",
        "        if valm[\"MRR\"] > best_mrr:\n",
        "            best_mrr = valm[\"MRR\"]\n",
        "            torch.save({\"model_state\": model.state_dict(), \"stoi\": stoi, \"itos\": itos}, best_path)\n",
        "            print(\"🔥 Guardado best ->\", best_path, \"| MRR:\", best_mrr)\n",
        "    return best_mrr, best_path"
      ]
    },
    {
      "cell_type": "markdown",
      "id": "6cd7430c",
      "metadata": {
        "id": "6cd7430c"
      },
      "source": [
        "## 9) Entrenar GRU"
      ]
    },
    {
      "cell_type": "code",
      "execution_count": null,
      "id": "464a26fd",
      "metadata": {
        "colab": {
          "base_uri": "https://localhost:8080/"
        },
        "id": "464a26fd",
        "outputId": "5a48f4d0-787b-4f2e-ebc2-3cd8bbb15541"
      },
      "outputs": [
        {
          "name": "stderr",
          "output_type": "stream",
          "text": [
            "/tmp/ipython-input-1507830936.py:32: FutureWarning: `torch.cuda.amp.GradScaler(args...)` is deprecated. Please use `torch.amp.GradScaler('cuda', args...)` instead.\n",
            "  scaler = torch.cuda.amp.GradScaler(enabled=(amp and device.type=='cuda'))\n",
            "/tmp/ipython-input-1507830936.py:41: FutureWarning: `torch.cuda.amp.autocast(args...)` is deprecated. Please use `torch.amp.autocast('cuda', args...)` instead.\n",
            "  with torch.cuda.amp.autocast(enabled=(amp and device.type=='cuda')):\n"
          ]
        },
        {
          "name": "stdout",
          "output_type": "stream",
          "text": [
            "Ep1 step 100/476 loss 2.2282\n",
            "Ep1 step 200/476 loss 2.3747\n",
            "Ep1 step 300/476 loss 2.0149\n",
            "Ep1 step 400/476 loss 2.0779\n",
            "Epoch 1 | val loss 2.1584 ppl 8.66 Top@1 0.442 Top@3 0.676 Top@5 0.763 MRR 0.585\n",
            "🔥 Guardado best -> /content/models_gru_v1/gru_best.pt | MRR: 0.584794789535765\n",
            "Ep2 step 100/476 loss 2.1084\n",
            "Ep2 step 200/476 loss 2.1919\n",
            "Ep2 step 300/476 loss 2.1190\n",
            "Ep2 step 400/476 loss 2.1181\n",
            "Epoch 2 | val loss 2.1306 ppl 8.42 Top@1 0.448 Top@3 0.685 Top@5 0.768 MRR 0.591\n",
            "🔥 Guardado best -> /content/models_gru_v1/gru_best.pt | MRR: 0.591246411382035\n",
            "Ep3 step 100/476 loss 2.0119\n",
            "Ep3 step 200/476 loss 1.8909\n",
            "Ep3 step 300/476 loss 1.8901\n",
            "Ep3 step 400/476 loss 2.1402\n",
            "Epoch 3 | val loss 2.1259 ppl 8.38 Top@1 0.455 Top@3 0.688 Top@5 0.770 MRR 0.597\n",
            "🔥 Guardado best -> /content/models_gru_v1/gru_best.pt | MRR: 0.5970695267882555\n",
            "Ep4 step 100/476 loss 1.9535\n",
            "Ep4 step 200/476 loss 1.8190\n",
            "Ep4 step 300/476 loss 1.8945\n",
            "Ep4 step 400/476 loss 2.0423\n",
            "Epoch 4 | val loss 2.1204 ppl 8.33 Top@1 0.459 Top@3 0.687 Top@5 0.770 MRR 0.598\n",
            "🔥 Guardado best -> /content/models_gru_v1/gru_best.pt | MRR: 0.59776738731107\n",
            "Ep5 step 100/476 loss 1.9358\n",
            "Ep5 step 200/476 loss 1.9275\n",
            "Ep5 step 300/476 loss 1.6719\n",
            "Ep5 step 400/476 loss 1.6908\n",
            "Epoch 5 | val loss 2.1479 ppl 8.57 Top@1 0.457 Top@3 0.688 Top@5 0.771 MRR 0.597\n",
            "Ep6 step 100/476 loss 1.7920\n",
            "Ep6 step 200/476 loss 1.8874\n",
            "Ep6 step 300/476 loss 1.6937\n",
            "Ep6 step 400/476 loss 2.0884\n",
            "Epoch 6 | val loss 2.1510 ppl 8.59 Top@1 0.457 Top@3 0.688 Top@5 0.771 MRR 0.597\n",
            "Best MRR: 0.59776738731107 | path: /content/models_gru_v1/gru_best.pt\n"
          ]
        }
      ],
      "source": [
        "import torch, os\n",
        "\n",
        "# Parámetros de entrenamiento (valores originales del experimento)\n",
        "epochs = 6              # Número de épocas\n",
        "lr = 2e-3              # Learning rate (0.002)\n",
        "weight_decay = 1e-4    # Regularización L2 (0.0001)\n",
        "grad_clip = 1.0        # Gradient clipping\n",
        "amp = True             # Automatic Mixed Precision\n",
        "random_state = 42      # Semilla para reproducibilidad\n",
        "\n",
        "# Rutas de guardado\n",
        "save_dir = \"/content/models_gru_v2\"\n",
        "save_name = \"gru_best.pt\"\n",
        "\n",
        "# Fijar semilla para reproducibilidad\n",
        "torch.manual_seed(random_state)\n",
        "\n",
        "# Crear modelo\n",
        "model = ChordGRU(vocab_size=len(vocab), \n",
        "                 embedding_dim=embedding_dim,\n",
        "                 hidden_size=hidden_size, \n",
        "                 num_layers=num_layers,\n",
        "                 dropout=dropout).to(device)\n",
        "\n",
        "print(f\"Modelo creado con {sum(p.numel() for p in model.parameters())} parámetros\")\n",
        "\n",
        "# Entrenar modelo\n",
        "best_mrr, best_path = train_model(model, train_loader, val_loader, \n",
        "                                  epochs=epochs, lr=lr, weight_decay=weight_decay,\n",
        "                                  grad_clip=grad_clip, amp=amp, \n",
        "                                  save_dir=save_dir, save_name=save_name)\n",
        "\n",
        "print(f\"🎯 Mejor MRR: {best_mrr:.4f} | Modelo guardado en: {best_path}\")"
      ]
    },
    {
      "cell_type": "markdown",
      "id": "788c8524",
      "metadata": {
        "id": "788c8524"
      },
      "source": [
        "## 10) Evaluación en Test"
      ]
    },
    {
      "cell_type": "code",
      "execution_count": null,
      "id": "2cd6eb80",
      "metadata": {
        "colab": {
          "base_uri": "https://localhost:8080/"
        },
        "id": "2cd6eb80",
        "outputId": "c10def60-209e-4a0f-92a7-c14997ef504c"
      },
      "outputs": [
        {
          "name": "stdout",
          "output_type": "stream",
          "text": [
            "Test: {'loss': 2.1969814152866194, 'ppl': 8.997811807607055, 'Top@1': 0.4319989573755014, 'Top@3': 0.6775329250729151, 'Top@5': 0.7616377626377533, 'MRR': 0.5797308985110382}\n"
          ]
        }
      ],
      "source": [
        "import torch, os\n",
        "\n",
        "# Cargar el mejor modelo guardado\n",
        "model_path = os.path.join(save_dir, save_name)\n",
        "ckpt = torch.load(model_path, map_location=device)\n",
        "model.load_state_dict(ckpt[\"model_state\"])\n",
        "\n",
        "print(f\"✅ Modelo cargado desde: {model_path}\")\n",
        "\n",
        "# Evaluar en conjunto de test\n",
        "test_metrics = evaluate(model, test_loader, torch.nn.CrossEntropyLoss())\n",
        "\n",
        "print(\"📊 Métricas finales en Test:\")\n",
        "print(f\"  • Loss: {test_metrics['loss']:.4f}\")\n",
        "print(f\"  • Perplexity: {test_metrics['ppl']:.2f}\")\n",
        "print(f\"  • Top@1: {test_metrics['Top@1']:.3f}\")\n",
        "print(f\"  • Top@3: {test_metrics['Top@3']:.3f}\")\n",
        "print(f\"  • Top@5: {test_metrics['Top@5']:.3f}\")\n",
        "print(f\"  • MRR: {test_metrics['MRR']:.3f}\")"
      ]
    },
    {
      "cell_type": "markdown",
      "id": "42ce4cb8",
      "metadata": {
        "id": "42ce4cb8"
      },
      "source": [
        "## 11) predict_next(context, k=5)"
      ]
    },
    {
      "cell_type": "code",
      "execution_count": null,
      "id": "d4c75249",
      "metadata": {
        "colab": {
          "base_uri": "https://localhost:8080/"
        },
        "id": "d4c75249",
        "outputId": "80e1967d-d9f0-4c8a-d6c7-72b353402dc0"
      },
      "outputs": [
        {
          "name": "stdout",
          "output_type": "stream",
          "text": [
            "Context: ['III', 'III', '#IV', '#IV', 'bII', 'bII', 'natIII', 'natIII', 'III', '#IV', 'IV', 'VI', 'V', 'bVII', 'natVI', 'I', 'II', 'VII', 'VI', 'IV', 'III', 'I', 'VII', 'natVI']\n",
            "Pred: [('VII', 0.13458140194416046), ('VI', 0.12113039195537567), ('I', 0.11372911930084229), ('IV', 0.08486910164356232), ('III', 0.07772155851125717)]\n"
          ]
        }
      ],
      "source": [
        "import torch.nn.functional as F\n",
        "\n",
        "def predict_next(context_tokens, k=5):\n",
        "    \"\"\"\n",
        "    Predice los k acordes más probables dado un contexto.\n",
        "    \n",
        "    Args:\n",
        "        context_tokens: Lista de tokens de acordes como contexto\n",
        "        k: Número de predicciones a devolver\n",
        "    \n",
        "    Returns:\n",
        "        Lista de tuplas (token, probabilidad)\n",
        "    \"\"\"\n",
        "    model.eval()\n",
        "    \n",
        "    # Convertir tokens a índices\n",
        "    ids = [stoi.get(t, stoi[\"<unk>\"]) for t in context_tokens]\n",
        "    \n",
        "    # Ajustar longitud al seq_len esperado\n",
        "    if len(ids) < seq_len:\n",
        "        ids = [stoi[\"<bos>\"]] * (seq_len - len(ids)) + ids\n",
        "    else:\n",
        "        ids = ids[-seq_len:]  # Tomar últimos seq_len tokens\n",
        "    \n",
        "    # Crear tensor y predecir\n",
        "    x = torch.tensor(ids, dtype=torch.long, device=device).unsqueeze(0)\n",
        "    with torch.no_grad():\n",
        "        logits = model(x)\n",
        "        probs = F.softmax(logits[0], dim=-1)\n",
        "        topk = torch.topk(probs, k)\n",
        "        return [(itos[i], float(p)) for i,p in zip(topk.indices.tolist(), topk.values.tolist())]\n",
        "\n",
        "# Ejemplo de predicción con una secuencia del conjunto de entrenamiento\n",
        "if len(train_seqs) > 0:\n",
        "    # Tomar una secuencia de ejemplo\n",
        "    ejemplo_seq = train_seqs[0][:seq_len-2]  # Dejar espacio para predicción\n",
        "    print(\"🎵 Contexto de ejemplo:\", \" \".join(ejemplo_seq))\n",
        "    \n",
        "    # Predecir próximos acordes\n",
        "    predicciones = predict_next(ejemplo_seq, k=5)\n",
        "    print(\"🔮 Top 5 predicciones:\")\n",
        "    for i, (token, prob) in enumerate(predicciones, 1):\n",
        "        print(f\"  {i}. {token} ({prob:.3f})\")"
      ]
    },
    {
      "cell_type": "markdown",
      "id": "24124ee2",
      "metadata": {
        "id": "24124ee2"
      },
      "source": [
        "\n",
        "### Roadmap corto\n",
        "- Añadir **posición en compás** y **duración** como embeddings adicionales (v2).\n",
        "- Re-ranking suave para evitar repes y favorecer cadencias.\n",
        "- Ajustar `seq_len`, capas y *scheduler* cuando confirmes el pipeline.\n"
      ]
    }
  ],
  "metadata": {
    "accelerator": "GPU",
    "colab": {
      "gpuType": "T4",
      "provenance": [],
      "toc_visible": true
    },
    "kernelspec": {
      "display_name": ".venv",
      "language": "python",
      "name": "python3"
    },
    "language_info": {
      "codemirror_mode": {
        "name": "ipython",
        "version": 3
      },
      "file_extension": ".py",
      "mimetype": "text/x-python",
      "name": "python",
      "nbconvert_exporter": "python",
      "pygments_lexer": "ipython3",
      "version": "3.12.2"
    }
  },
  "nbformat": 4,
  "nbformat_minor": 5
}
