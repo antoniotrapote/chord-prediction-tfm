{
 "cells": [
  {
   "cell_type": "markdown",
   "id": "c46a9d23",
   "metadata": {
    "id": "c46a9d23"
   },
   "source": [
    "# GRU_model_v1 — GRU model (Pytorch)\n",
    "utilizamos el dataset `songdb_funcional_v4`\n"
   ]
  },
  {
   "cell_type": "markdown",
   "id": "5ce68bab",
   "metadata": {
    "id": "5ce68bab"
   },
   "source": [
    "## 0) Entorno (Colab)"
   ]
  },
  {
   "cell_type": "code",
   "execution_count": 1,
   "id": "4c816e35",
   "metadata": {
    "colab": {
     "base_uri": "https://localhost:8080/"
    },
    "executionInfo": {
     "elapsed": 6192,
     "status": "ok",
     "timestamp": 1756230420307,
     "user": {
      "displayName": "Antonio L. Trapote",
      "userId": "06525061061648817839"
     },
     "user_tz": -120
    },
    "id": "4c816e35",
    "outputId": "7689db14-f9d9-4f17-b7c8-e62343ec5594"
   },
   "outputs": [
    {
     "name": "stdout",
     "output_type": "stream",
     "text": [
      "Python: 3.12.11 (main, Jun  4 2025, 08:56:18) [GCC 11.4.0]\n",
      "PyTorch: 2.8.0+cu126\n",
      "CUDA disponible: True\n",
      "GPU: Tesla T4\n"
     ]
    }
   ],
   "source": [
    "#@title Comprobar GPU/versions\n",
    "import sys, torch\n",
    "print(\"Python:\", sys.version)\n",
    "print(\"PyTorch:\", torch.__version__)\n",
    "print(\"CUDA disponible:\", torch.cuda.is_available())\n",
    "if torch.cuda.is_available():\n",
    "    print(\"GPU:\", torch.cuda.get_device_name(0))\n",
    "else:\n",
    "    print(\"⚠️ Activa GPU: Runtime ▶ Change runtime type ▶ GPU\")\n"
   ]
  },
  {
   "cell_type": "markdown",
   "id": "73a81959",
   "metadata": {
    "id": "73a81959"
   },
   "source": [
    "## 1) Configuración"
   ]
  },
  {
   "cell_type": "code",
   "execution_count": 2,
   "id": "5769e658",
   "metadata": {
    "colab": {
     "base_uri": "https://localhost:8080/"
    },
    "executionInfo": {
     "elapsed": 35,
     "status": "ok",
     "timestamp": 1756230420345,
     "user": {
      "displayName": "Antonio L. Trapote",
      "userId": "06525061061648817839"
     },
     "user_tz": -120
    },
    "id": "5769e658",
    "outputId": "e7378c08-d807-4c9c-857d-e6a0003b65ae"
   },
   "outputs": [
    {
     "name": "stdout",
     "output_type": "stream",
     "text": [
      "Config(data_path='/content/songdb_funcional_v4.csv', sequence_col='funcional_prog', val_size=0.1, test_size=0.1, random_state=42, seq_len=24, batch_size=128, epochs=6, lr=0.002, weight_decay=0.0001, dropout=0.2, embedding_dim=128, hidden_size=256, num_layers=2, grad_clip=1.0, amp=True, save_dir='/content/models_gru_v1', save_name='gru_best.pt', tokenizer_path='gru_tokenizer.json', min_seq_len=8)\n"
     ]
    }
   ],
   "source": [
    "from dataclasses import dataclass\n",
    "\n",
    "@dataclass\n",
    "class Config:\n",
    "    # Ruta al CSV en Colab (sube el archivo o móntalo desde Drive)\n",
    "    data_path: str = \"/content/songdb_funcional_v4.csv\"\n",
    "    # 🔧 Elige la columna de secuencia (sin autodetección):\n",
    "    sequence_col: str = \"funcional_prog\"\n",
    "\n",
    "    # Splits y semilla\n",
    "    val_size: float = 0.10\n",
    "    test_size: float = 0.10\n",
    "    random_state: int = 42\n",
    "\n",
    "    # Modelo/entrenamiento\n",
    "    seq_len: int = 24\n",
    "    batch_size: int = 128\n",
    "    epochs: int = 6\n",
    "    lr: float = 2e-3\n",
    "    weight_decay: float = 1e-4\n",
    "    dropout: float = 0.2\n",
    "    embedding_dim: int = 128\n",
    "    hidden_size: int = 256\n",
    "    num_layers: int = 2\n",
    "    grad_clip: float = 1.0\n",
    "    amp: bool = True\n",
    "\n",
    "    # Guardado\n",
    "    save_dir: str = \"/content/models_gru_v1\"\n",
    "    save_name: str = \"gru_best.pt\"\n",
    "    tokenizer_path: str = \"gru_tokenizer.json\"\n",
    "\n",
    "    # Filtrado\n",
    "    min_seq_len: int = 8  # ignora secuencias muy cortas\n",
    "\n",
    "cfg = Config()\n",
    "print(cfg)\n"
   ]
  },
  {
   "cell_type": "markdown",
   "id": "e9dbc89e",
   "metadata": {
    "id": "e9dbc89e"
   },
   "source": [
    "## 2) Traer el CSV a Colab (elige una opción)"
   ]
  },
  {
   "cell_type": "code",
   "execution_count": 3,
   "id": "70e3139c",
   "metadata": {
    "colab": {
     "base_uri": "https://localhost:8080/",
     "height": 90
    },
    "executionInfo": {
     "elapsed": 28925,
     "status": "ok",
     "timestamp": 1756230449281,
     "user": {
      "displayName": "Antonio L. Trapote",
      "userId": "06525061061648817839"
     },
     "user_tz": -120
    },
    "id": "70e3139c",
    "outputId": "67b72f22-4afa-4af7-ef21-e4148c8991ba"
   },
   "outputs": [
    {
     "data": {
      "text/html": [
       "\n",
       "     <input type=\"file\" id=\"files-93223814-fcf3-4cf7-9d34-59ac56dc8b84\" name=\"files[]\" multiple disabled\n",
       "        style=\"border:none\" />\n",
       "     <output id=\"result-93223814-fcf3-4cf7-9d34-59ac56dc8b84\">\n",
       "      Upload widget is only available when the cell has been executed in the\n",
       "      current browser session. Please rerun this cell to enable.\n",
       "      </output>\n",
       "      <script>// Copyright 2017 Google LLC\n",
       "//\n",
       "// Licensed under the Apache License, Version 2.0 (the \"License\");\n",
       "// you may not use this file except in compliance with the License.\n",
       "// You may obtain a copy of the License at\n",
       "//\n",
       "//      http://www.apache.org/licenses/LICENSE-2.0\n",
       "//\n",
       "// Unless required by applicable law or agreed to in writing, software\n",
       "// distributed under the License is distributed on an \"AS IS\" BASIS,\n",
       "// WITHOUT WARRANTIES OR CONDITIONS OF ANY KIND, either express or implied.\n",
       "// See the License for the specific language governing permissions and\n",
       "// limitations under the License.\n",
       "\n",
       "/**\n",
       " * @fileoverview Helpers for google.colab Python module.\n",
       " */\n",
       "(function(scope) {\n",
       "function span(text, styleAttributes = {}) {\n",
       "  const element = document.createElement('span');\n",
       "  element.textContent = text;\n",
       "  for (const key of Object.keys(styleAttributes)) {\n",
       "    element.style[key] = styleAttributes[key];\n",
       "  }\n",
       "  return element;\n",
       "}\n",
       "\n",
       "// Max number of bytes which will be uploaded at a time.\n",
       "const MAX_PAYLOAD_SIZE = 100 * 1024;\n",
       "\n",
       "function _uploadFiles(inputId, outputId) {\n",
       "  const steps = uploadFilesStep(inputId, outputId);\n",
       "  const outputElement = document.getElementById(outputId);\n",
       "  // Cache steps on the outputElement to make it available for the next call\n",
       "  // to uploadFilesContinue from Python.\n",
       "  outputElement.steps = steps;\n",
       "\n",
       "  return _uploadFilesContinue(outputId);\n",
       "}\n",
       "\n",
       "// This is roughly an async generator (not supported in the browser yet),\n",
       "// where there are multiple asynchronous steps and the Python side is going\n",
       "// to poll for completion of each step.\n",
       "// This uses a Promise to block the python side on completion of each step,\n",
       "// then passes the result of the previous step as the input to the next step.\n",
       "function _uploadFilesContinue(outputId) {\n",
       "  const outputElement = document.getElementById(outputId);\n",
       "  const steps = outputElement.steps;\n",
       "\n",
       "  const next = steps.next(outputElement.lastPromiseValue);\n",
       "  return Promise.resolve(next.value.promise).then((value) => {\n",
       "    // Cache the last promise value to make it available to the next\n",
       "    // step of the generator.\n",
       "    outputElement.lastPromiseValue = value;\n",
       "    return next.value.response;\n",
       "  });\n",
       "}\n",
       "\n",
       "/**\n",
       " * Generator function which is called between each async step of the upload\n",
       " * process.\n",
       " * @param {string} inputId Element ID of the input file picker element.\n",
       " * @param {string} outputId Element ID of the output display.\n",
       " * @return {!Iterable<!Object>} Iterable of next steps.\n",
       " */\n",
       "function* uploadFilesStep(inputId, outputId) {\n",
       "  const inputElement = document.getElementById(inputId);\n",
       "  inputElement.disabled = false;\n",
       "\n",
       "  const outputElement = document.getElementById(outputId);\n",
       "  outputElement.innerHTML = '';\n",
       "\n",
       "  const pickedPromise = new Promise((resolve) => {\n",
       "    inputElement.addEventListener('change', (e) => {\n",
       "      resolve(e.target.files);\n",
       "    });\n",
       "  });\n",
       "\n",
       "  const cancel = document.createElement('button');\n",
       "  inputElement.parentElement.appendChild(cancel);\n",
       "  cancel.textContent = 'Cancel upload';\n",
       "  const cancelPromise = new Promise((resolve) => {\n",
       "    cancel.onclick = () => {\n",
       "      resolve(null);\n",
       "    };\n",
       "  });\n",
       "\n",
       "  // Wait for the user to pick the files.\n",
       "  const files = yield {\n",
       "    promise: Promise.race([pickedPromise, cancelPromise]),\n",
       "    response: {\n",
       "      action: 'starting',\n",
       "    }\n",
       "  };\n",
       "\n",
       "  cancel.remove();\n",
       "\n",
       "  // Disable the input element since further picks are not allowed.\n",
       "  inputElement.disabled = true;\n",
       "\n",
       "  if (!files) {\n",
       "    return {\n",
       "      response: {\n",
       "        action: 'complete',\n",
       "      }\n",
       "    };\n",
       "  }\n",
       "\n",
       "  for (const file of files) {\n",
       "    const li = document.createElement('li');\n",
       "    li.append(span(file.name, {fontWeight: 'bold'}));\n",
       "    li.append(span(\n",
       "        `(${file.type || 'n/a'}) - ${file.size} bytes, ` +\n",
       "        `last modified: ${\n",
       "            file.lastModifiedDate ? file.lastModifiedDate.toLocaleDateString() :\n",
       "                                    'n/a'} - `));\n",
       "    const percent = span('0% done');\n",
       "    li.appendChild(percent);\n",
       "\n",
       "    outputElement.appendChild(li);\n",
       "\n",
       "    const fileDataPromise = new Promise((resolve) => {\n",
       "      const reader = new FileReader();\n",
       "      reader.onload = (e) => {\n",
       "        resolve(e.target.result);\n",
       "      };\n",
       "      reader.readAsArrayBuffer(file);\n",
       "    });\n",
       "    // Wait for the data to be ready.\n",
       "    let fileData = yield {\n",
       "      promise: fileDataPromise,\n",
       "      response: {\n",
       "        action: 'continue',\n",
       "      }\n",
       "    };\n",
       "\n",
       "    // Use a chunked sending to avoid message size limits. See b/62115660.\n",
       "    let position = 0;\n",
       "    do {\n",
       "      const length = Math.min(fileData.byteLength - position, MAX_PAYLOAD_SIZE);\n",
       "      const chunk = new Uint8Array(fileData, position, length);\n",
       "      position += length;\n",
       "\n",
       "      const base64 = btoa(String.fromCharCode.apply(null, chunk));\n",
       "      yield {\n",
       "        response: {\n",
       "          action: 'append',\n",
       "          file: file.name,\n",
       "          data: base64,\n",
       "        },\n",
       "      };\n",
       "\n",
       "      let percentDone = fileData.byteLength === 0 ?\n",
       "          100 :\n",
       "          Math.round((position / fileData.byteLength) * 100);\n",
       "      percent.textContent = `${percentDone}% done`;\n",
       "\n",
       "    } while (position < fileData.byteLength);\n",
       "  }\n",
       "\n",
       "  // All done.\n",
       "  yield {\n",
       "    response: {\n",
       "      action: 'complete',\n",
       "    }\n",
       "  };\n",
       "}\n",
       "\n",
       "scope.google = scope.google || {};\n",
       "scope.google.colab = scope.google.colab || {};\n",
       "scope.google.colab._files = {\n",
       "  _uploadFiles,\n",
       "  _uploadFilesContinue,\n",
       "};\n",
       "})(self);\n",
       "</script> "
      ],
      "text/plain": [
       "<IPython.core.display.HTML object>"
      ]
     },
     "metadata": {},
     "output_type": "display_data"
    },
    {
     "name": "stdout",
     "output_type": "stream",
     "text": [
      "Saving songdb_funcional_v4.csv to songdb_funcional_v4.csv\n",
      "Subido: ['songdb_funcional_v4.csv']\n"
     ]
    }
   ],
   "source": [
    "try:\n",
    "    from google.colab import files\n",
    "    uploaded = files.upload()\n",
    "    print(\"Subido:\", list(uploaded.keys()))\n",
    "except Exception as e:\n",
    "    print(\"Subida (UI Colab) no disponible aquí:\", e)\n"
   ]
  },
  {
   "cell_type": "code",
   "execution_count": 4,
   "id": "37806451",
   "metadata": {
    "colab": {
     "base_uri": "https://localhost:8080/"
    },
    "executionInfo": {
     "elapsed": 2478,
     "status": "ok",
     "timestamp": 1756230451753,
     "user": {
      "displayName": "Antonio L. Trapote",
      "userId": "06525061061648817839"
     },
     "user_tz": -120
    },
    "id": "37806451",
    "outputId": "780079e5-6b35-4a6e-9a90-1583e5f804bc"
   },
   "outputs": [
    {
     "name": "stdout",
     "output_type": "stream",
     "text": [
      "Drive no disponible aquí: Error: credential propagation was unsuccessful\n"
     ]
    }
   ],
   "source": [
    "try:\n",
    "    from google.colab import drive\n",
    "    drive.mount('/content/drive')\n",
    "    print(\"Ejemplo: cfg.data_path = '/content/drive/MyDrive/songdb_funcional_v4.csv'\")\n",
    "except Exception as e:\n",
    "    print(\"Drive no disponible aquí:\", e)\n"
   ]
  },
  {
   "cell_type": "markdown",
   "id": "8f2afd05",
   "metadata": {
    "id": "8f2afd05"
   },
   "source": [
    "## 3) Cargar CSV y tokenizar (whitespace)"
   ]
  },
  {
   "cell_type": "code",
   "execution_count": null,
   "id": "6916af6e",
   "metadata": {
    "colab": {
     "base_uri": "https://localhost:8080/",
     "height": 178
    },
    "executionInfo": {
     "elapsed": 495,
     "status": "ok",
     "timestamp": 1756230452250,
     "user": {
      "displayName": "Antonio L. Trapote",
      "userId": "06525061061648817839"
     },
     "user_tz": -120
    },
    "id": "6916af6e",
    "outputId": "5bdb6403-1616-48bb-f1f8-c5c2315304bb"
   },
   "outputs": [
    {
     "name": "stdout",
     "output_type": "stream",
     "text": [
      "Filas totales: 2613\n"
     ]
    },
    {
     "data": {
      "application/vnd.google.colaboratory.intrinsic+json": {
       "summary": "{\n  \"name\": \"print(\\\"Filas tras filtro min_seq_len:\\\", len(df))\",\n  \"rows\": 3,\n  \"fields\": [\n    {\n      \"column\": \"funcional_prog\",\n      \"properties\": {\n        \"dtype\": \"string\",\n        \"num_unique_values\": 3,\n        \"samples\": [\n          \"vi #iv\\u00f8 V/III V/VI vi IV ii V7 iii vi ii V7 I IV7 vii\\u00f8 V/VI vi #iv\\u00f8 V/III V/VI vi IV ii V7 iii vi ii V7 I V7 I V/II ii ii V7 I V/II ii V7 I V/VI vi #iv\\u00f8 V/III V/VI vi IV ii V7 iii vi ii V7 I V7 I III7\",\n          \"VII VII I vi ii V7 VII VII I vi ii V7 I IV #ivo I iii vi V/V V7 VII VII I vi ii V7 VII VII I vi ii V7 I IV #ivo I ii V7 I I vi bvi v V/IV IV IV vi bvi v V/IV IV IV vii bvii vi V/V V V ii V7 ii V7 VII VII I vi ii V7 VII VII I vi ii V7 I IV #ivo I iii vi V/V V7 iii IV iii IV iii ii ii V7 I V7\",\n          \"i VI V/V V7 i VI V/V V7 i VI ii\\u00f8 V7 i VI ii\\u00f8 V7 i i Vsub/V V7 iv iv ii\\u00f8 bII7 iv bII v\\u00f8 V/IV iv bII v\\u00f8 V/IV iv bII v\\u00f8 V/IV iv Vsub/II ii\\u00f8 V7 i VI ii\\u00f8 V7 i VI ii\\u00f8 V7 i i Vsub/V V7 iv iv ii\\u00f8 bII7 bII bII\"\n        ],\n        \"semantic_type\": \"\",\n        \"description\": \"\"\n      }\n    }\n  ]\n}",
       "type": "dataframe"
      },
      "text/html": [
       "\n",
       "  <div id=\"df-caa6df4a-b938-487b-abd0-5f82bbfd460f\" class=\"colab-df-container\">\n",
       "    <div>\n",
       "<style scoped>\n",
       "    .dataframe tbody tr th:only-of-type {\n",
       "        vertical-align: middle;\n",
       "    }\n",
       "\n",
       "    .dataframe tbody tr th {\n",
       "        vertical-align: top;\n",
       "    }\n",
       "\n",
       "    .dataframe thead th {\n",
       "        text-align: right;\n",
       "    }\n",
       "</style>\n",
       "<table border=\"1\" class=\"dataframe\">\n",
       "  <thead>\n",
       "    <tr style=\"text-align: right;\">\n",
       "      <th></th>\n",
       "      <th>funcional_prog</th>\n",
       "    </tr>\n",
       "  </thead>\n",
       "  <tbody>\n",
       "    <tr>\n",
       "      <th>0</th>\n",
       "      <td>vi #ivø V/III V/VI vi IV ii V7 iii vi ii V7 I ...</td>\n",
       "    </tr>\n",
       "    <tr>\n",
       "      <th>1</th>\n",
       "      <td>VII VII I vi ii V7 VII VII I vi ii V7 I IV #iv...</td>\n",
       "    </tr>\n",
       "    <tr>\n",
       "      <th>2</th>\n",
       "      <td>i VI V/V V7 i VI V/V V7 i VI iiø V7 i VI iiø V...</td>\n",
       "    </tr>\n",
       "  </tbody>\n",
       "</table>\n",
       "</div>\n",
       "    <div class=\"colab-df-buttons\">\n",
       "\n",
       "  <div class=\"colab-df-container\">\n",
       "    <button class=\"colab-df-convert\" onclick=\"convertToInteractive('df-caa6df4a-b938-487b-abd0-5f82bbfd460f')\"\n",
       "            title=\"Convert this dataframe to an interactive table.\"\n",
       "            style=\"display:none;\">\n",
       "\n",
       "  <svg xmlns=\"http://www.w3.org/2000/svg\" height=\"24px\" viewBox=\"0 -960 960 960\">\n",
       "    <path d=\"M120-120v-720h720v720H120Zm60-500h600v-160H180v160Zm220 220h160v-160H400v160Zm0 220h160v-160H400v160ZM180-400h160v-160H180v160Zm440 0h160v-160H620v160ZM180-180h160v-160H180v160Zm440 0h160v-160H620v160Z\"/>\n",
       "  </svg>\n",
       "    </button>\n",
       "\n",
       "  <style>\n",
       "    .colab-df-container {\n",
       "      display:flex;\n",
       "      gap: 12px;\n",
       "    }\n",
       "\n",
       "    .colab-df-convert {\n",
       "      background-color: #E8F0FE;\n",
       "      border: none;\n",
       "      border-radius: 50%;\n",
       "      cursor: pointer;\n",
       "      display: none;\n",
       "      fill: #1967D2;\n",
       "      height: 32px;\n",
       "      padding: 0 0 0 0;\n",
       "      width: 32px;\n",
       "    }\n",
       "\n",
       "    .colab-df-convert:hover {\n",
       "      background-color: #E2EBFA;\n",
       "      box-shadow: 0px 1px 2px rgba(60, 64, 67, 0.3), 0px 1px 3px 1px rgba(60, 64, 67, 0.15);\n",
       "      fill: #174EA6;\n",
       "    }\n",
       "\n",
       "    .colab-df-buttons div {\n",
       "      margin-bottom: 4px;\n",
       "    }\n",
       "\n",
       "    [theme=dark] .colab-df-convert {\n",
       "      background-color: #3B4455;\n",
       "      fill: #D2E3FC;\n",
       "    }\n",
       "\n",
       "    [theme=dark] .colab-df-convert:hover {\n",
       "      background-color: #434B5C;\n",
       "      box-shadow: 0px 1px 3px 1px rgba(0, 0, 0, 0.15);\n",
       "      filter: drop-shadow(0px 1px 2px rgba(0, 0, 0, 0.3));\n",
       "      fill: #FFFFFF;\n",
       "    }\n",
       "  </style>\n",
       "\n",
       "    <script>\n",
       "      const buttonEl =\n",
       "        document.querySelector('#df-caa6df4a-b938-487b-abd0-5f82bbfd460f button.colab-df-convert');\n",
       "      buttonEl.style.display =\n",
       "        google.colab.kernel.accessAllowed ? 'block' : 'none';\n",
       "\n",
       "      async function convertToInteractive(key) {\n",
       "        const element = document.querySelector('#df-caa6df4a-b938-487b-abd0-5f82bbfd460f');\n",
       "        const dataTable =\n",
       "          await google.colab.kernel.invokeFunction('convertToInteractive',\n",
       "                                                    [key], {});\n",
       "        if (!dataTable) return;\n",
       "\n",
       "        const docLinkHtml = 'Like what you see? Visit the ' +\n",
       "          '<a target=\"_blank\" href=https://colab.research.google.com/notebooks/data_table.ipynb>data table notebook</a>'\n",
       "          + ' to learn more about interactive tables.';\n",
       "        element.innerHTML = '';\n",
       "        dataTable['output_type'] = 'display_data';\n",
       "        await google.colab.output.renderOutput(dataTable, element);\n",
       "        const docLink = document.createElement('div');\n",
       "        docLink.innerHTML = docLinkHtml;\n",
       "        element.appendChild(docLink);\n",
       "      }\n",
       "    </script>\n",
       "  </div>\n",
       "\n",
       "\n",
       "    <div id=\"df-eafd2ab5-a1ca-4cd3-a406-39230b440690\">\n",
       "      <button class=\"colab-df-quickchart\" onclick=\"quickchart('df-eafd2ab5-a1ca-4cd3-a406-39230b440690')\"\n",
       "                title=\"Suggest charts\"\n",
       "                style=\"display:none;\">\n",
       "\n",
       "<svg xmlns=\"http://www.w3.org/2000/svg\" height=\"24px\"viewBox=\"0 0 24 24\"\n",
       "     width=\"24px\">\n",
       "    <g>\n",
       "        <path d=\"M19 3H5c-1.1 0-2 .9-2 2v14c0 1.1.9 2 2 2h14c1.1 0 2-.9 2-2V5c0-1.1-.9-2-2-2zM9 17H7v-7h2v7zm4 0h-2V7h2v10zm4 0h-2v-4h2v4z\"/>\n",
       "    </g>\n",
       "</svg>\n",
       "      </button>\n",
       "\n",
       "<style>\n",
       "  .colab-df-quickchart {\n",
       "      --bg-color: #E8F0FE;\n",
       "      --fill-color: #1967D2;\n",
       "      --hover-bg-color: #E2EBFA;\n",
       "      --hover-fill-color: #174EA6;\n",
       "      --disabled-fill-color: #AAA;\n",
       "      --disabled-bg-color: #DDD;\n",
       "  }\n",
       "\n",
       "  [theme=dark] .colab-df-quickchart {\n",
       "      --bg-color: #3B4455;\n",
       "      --fill-color: #D2E3FC;\n",
       "      --hover-bg-color: #434B5C;\n",
       "      --hover-fill-color: #FFFFFF;\n",
       "      --disabled-bg-color: #3B4455;\n",
       "      --disabled-fill-color: #666;\n",
       "  }\n",
       "\n",
       "  .colab-df-quickchart {\n",
       "    background-color: var(--bg-color);\n",
       "    border: none;\n",
       "    border-radius: 50%;\n",
       "    cursor: pointer;\n",
       "    display: none;\n",
       "    fill: var(--fill-color);\n",
       "    height: 32px;\n",
       "    padding: 0;\n",
       "    width: 32px;\n",
       "  }\n",
       "\n",
       "  .colab-df-quickchart:hover {\n",
       "    background-color: var(--hover-bg-color);\n",
       "    box-shadow: 0 1px 2px rgba(60, 64, 67, 0.3), 0 1px 3px 1px rgba(60, 64, 67, 0.15);\n",
       "    fill: var(--button-hover-fill-color);\n",
       "  }\n",
       "\n",
       "  .colab-df-quickchart-complete:disabled,\n",
       "  .colab-df-quickchart-complete:disabled:hover {\n",
       "    background-color: var(--disabled-bg-color);\n",
       "    fill: var(--disabled-fill-color);\n",
       "    box-shadow: none;\n",
       "  }\n",
       "\n",
       "  .colab-df-spinner {\n",
       "    border: 2px solid var(--fill-color);\n",
       "    border-color: transparent;\n",
       "    border-bottom-color: var(--fill-color);\n",
       "    animation:\n",
       "      spin 1s steps(1) infinite;\n",
       "  }\n",
       "\n",
       "  @keyframes spin {\n",
       "    0% {\n",
       "      border-color: transparent;\n",
       "      border-bottom-color: var(--fill-color);\n",
       "      border-left-color: var(--fill-color);\n",
       "    }\n",
       "    20% {\n",
       "      border-color: transparent;\n",
       "      border-left-color: var(--fill-color);\n",
       "      border-top-color: var(--fill-color);\n",
       "    }\n",
       "    30% {\n",
       "      border-color: transparent;\n",
       "      border-left-color: var(--fill-color);\n",
       "      border-top-color: var(--fill-color);\n",
       "      border-right-color: var(--fill-color);\n",
       "    }\n",
       "    40% {\n",
       "      border-color: transparent;\n",
       "      border-right-color: var(--fill-color);\n",
       "      border-top-color: var(--fill-color);\n",
       "    }\n",
       "    60% {\n",
       "      border-color: transparent;\n",
       "      border-right-color: var(--fill-color);\n",
       "    }\n",
       "    80% {\n",
       "      border-color: transparent;\n",
       "      border-right-color: var(--fill-color);\n",
       "      border-bottom-color: var(--fill-color);\n",
       "    }\n",
       "    90% {\n",
       "      border-color: transparent;\n",
       "      border-bottom-color: var(--fill-color);\n",
       "    }\n",
       "  }\n",
       "</style>\n",
       "\n",
       "      <script>\n",
       "        async function quickchart(key) {\n",
       "          const quickchartButtonEl =\n",
       "            document.querySelector('#' + key + ' button');\n",
       "          quickchartButtonEl.disabled = true;  // To prevent multiple clicks.\n",
       "          quickchartButtonEl.classList.add('colab-df-spinner');\n",
       "          try {\n",
       "            const charts = await google.colab.kernel.invokeFunction(\n",
       "                'suggestCharts', [key], {});\n",
       "          } catch (error) {\n",
       "            console.error('Error during call to suggestCharts:', error);\n",
       "          }\n",
       "          quickchartButtonEl.classList.remove('colab-df-spinner');\n",
       "          quickchartButtonEl.classList.add('colab-df-quickchart-complete');\n",
       "        }\n",
       "        (() => {\n",
       "          let quickchartButtonEl =\n",
       "            document.querySelector('#df-eafd2ab5-a1ca-4cd3-a406-39230b440690 button');\n",
       "          quickchartButtonEl.style.display =\n",
       "            google.colab.kernel.accessAllowed ? 'block' : 'none';\n",
       "        })();\n",
       "      </script>\n",
       "    </div>\n",
       "\n",
       "    </div>\n",
       "  </div>\n"
      ],
      "text/plain": [
       "                                      funcional_prog\n",
       "0  vi #ivø V/III V/VI vi IV ii V7 iii vi ii V7 I ...\n",
       "1  VII VII I vi ii V7 VII VII I vi ii V7 I IV #iv...\n",
       "2  i VI V/V V7 i VI V/V V7 i VI iiø V7 i VI iiø V..."
      ]
     },
     "metadata": {},
     "output_type": "display_data"
    },
    {
     "name": "stdout",
     "output_type": "stream",
     "text": [
      "Filas tras filtro min_seq_len: 2612\n"
     ]
    }
   ],
   "source": [
    "#@title Carga + tokenización\n",
    "import pandas as pd, ast, re\n",
    "\n",
    "df = pd.read_csv(cfg.data_path)\n",
    "assert cfg.sequence_col in df.columns, f\"Columna {cfg.sequence_col} no encontrada en el CSV.\"\n",
    "print(\"Filas totales:\", len(df))\n",
    "display(df[[cfg.sequence_col]].head(3))\n",
    "\n",
    "def parse_tokens_simple(s: str):\n",
    "    if isinstance(s, str) and s.strip().startswith(\"[\") and s.strip().endswith(\"]\"):\n",
    "        try:\n",
    "            lst = ast.literal_eval(s)\n",
    "            if isinstance(lst, list):\n",
    "                return [str(t) for t in lst]\n",
    "        except Exception:\n",
    "            pass\n",
    "    # Normaliza separadores de compás y saltos de línea a espacios\n",
    "    s = str(s).replace(\"|\", \" \").replace(\"\\n\", \" \")#.replace(\" \", \" \")\n",
    "    toks = [t for t in re.findall(r\"\\S+\", s) if t.strip()]\n",
    "    return toks\n",
    "\n",
    "df[\"_tokens_\"] = df[cfg.sequence_col].apply(parse_tokens_simple)\n",
    "df = df[df[\"_tokens_\"].apply(len) >= cfg.min_seq_len].reset_index(drop=True)\n",
    "print(\"Filas tras filtro min_seq_len:\", len(df))"
   ]
  },
  {
   "cell_type": "markdown",
   "id": "a6efa6d6",
   "metadata": {
    "id": "a6efa6d6"
   },
   "source": [
    "## 4) Split train/val/test (simple, por filas)"
   ]
  },
  {
   "cell_type": "code",
   "execution_count": 6,
   "id": "f6426eba",
   "metadata": {
    "colab": {
     "base_uri": "https://localhost:8080/"
    },
    "executionInfo": {
     "elapsed": 1018,
     "status": "ok",
     "timestamp": 1756230453270,
     "user": {
      "displayName": "Antonio L. Trapote",
      "userId": "06525061061648817839"
     },
     "user_tz": -120
    },
    "id": "f6426eba",
    "outputId": "57a49212-c1c4-49ff-f5e8-03a4f70a0e01"
   },
   "outputs": [
    {
     "name": "stdout",
     "output_type": "stream",
     "text": [
      "2089 261 262\n"
     ]
    }
   ],
   "source": [
    "\n",
    "#@title Split\n",
    "from sklearn.model_selection import train_test_split\n",
    "train_df, tmp_df = train_test_split(df, test_size=cfg.val_size+cfg.test_size, random_state=cfg.random_state, shuffle=True)\n",
    "rel_test = cfg.test_size / (cfg.val_size + cfg.test_size) if (cfg.val_size + cfg.test_size) > 0 else 0.5\n",
    "val_df, test_df = train_test_split(tmp_df, test_size=rel_test, random_state=cfg.random_state, shuffle=True)\n",
    "\n",
    "train_seqs = train_df[\"_tokens_\"].tolist()\n",
    "val_seqs   = val_df[\"_tokens_\"].tolist()\n",
    "test_seqs  = test_df[\"_tokens_\"].tolist()\n",
    "print(len(train_seqs), len(val_seqs), len(test_seqs))\n"
   ]
  },
  {
   "cell_type": "markdown",
   "id": "8622e1a7",
   "metadata": {
    "id": "8622e1a7"
   },
   "source": [
    "## 5) Vocabulario y codificación"
   ]
  },
  {
   "cell_type": "code",
   "execution_count": 7,
   "id": "39588251",
   "metadata": {
    "colab": {
     "base_uri": "https://localhost:8080/"
    },
    "executionInfo": {
     "elapsed": 6,
     "status": "ok",
     "timestamp": 1756230453278,
     "user": {
      "displayName": "Antonio L. Trapote",
      "userId": "06525061061648817839"
     },
     "user_tz": -120
    },
    "id": "39588251",
    "outputId": "d7919cf1-425b-44a8-97ff-01e4c174d9d0"
   },
   "outputs": [
    {
     "name": "stdout",
     "output_type": "stream",
     "text": [
      "Vocab size: 86\n"
     ]
    }
   ],
   "source": [
    "\n",
    "#@title Vocab + encode\n",
    "from collections import Counter\n",
    "import json\n",
    "PAD, UNK, BOS, EOS = \"<pad>\", \"<unk>\", \"<bos>\", \"<eos>\"\n",
    "\n",
    "def build_vocab(seqs, min_freq=1):\n",
    "    c = Counter()\n",
    "    for s in seqs: c.update(s)\n",
    "    vocab = [PAD, UNK, BOS, EOS] + [t for t,f in c.items() if f >= min_freq and t not in {PAD,UNK,BOS,EOS}]\n",
    "    stoi = {t:i for i,t in enumerate(vocab)}\n",
    "    itos = {i:t for t,i in stoi.items()}\n",
    "    return vocab, stoi, itos\n",
    "\n",
    "vocab, stoi, itos = build_vocab(train_seqs, 1)\n",
    "vocab_size = len(vocab)\n",
    "print(\"Vocab size:\", vocab_size)\n",
    "\n",
    "with open(cfg.tokenizer_path, \"w\") as f:\n",
    "    json.dump({\"vocab\": vocab}, f, ensure_ascii=False, indent=2)\n",
    "\n",
    "def encode(seq, add_bos=True):\n",
    "    ids = [stoi[BOS]] if add_bos else []\n",
    "    ids += [stoi.get(t, stoi[UNK]) for t in seq]\n",
    "    return ids\n"
   ]
  },
  {
   "cell_type": "markdown",
   "id": "30a2c319",
   "metadata": {
    "id": "30a2c319"
   },
   "source": [
    "## 6) Dataset (context→next) y DataLoaders"
   ]
  },
  {
   "cell_type": "code",
   "execution_count": 8,
   "id": "508cd745",
   "metadata": {
    "colab": {
     "base_uri": "https://localhost:8080/"
    },
    "executionInfo": {
     "elapsed": 196,
     "status": "ok",
     "timestamp": 1756230453475,
     "user": {
      "displayName": "Antonio L. Trapote",
      "userId": "06525061061648817839"
     },
     "user_tz": -120
    },
    "id": "508cd745",
    "outputId": "a65cfd85-5a70-4997-a6eb-394306d2778b"
   },
   "outputs": [
    {
     "data": {
      "text/plain": [
       "(60979, 7044, 7669)"
      ]
     },
     "execution_count": 8,
     "metadata": {},
     "output_type": "execute_result"
    }
   ],
   "source": [
    "\n",
    "#@title Dataset\n",
    "import torch\n",
    "from torch.utils.data import Dataset, DataLoader\n",
    "device = torch.device(\"cuda\" if torch.cuda.is_available() else \"cpu\")\n",
    "\n",
    "class NextTokenDataset(Dataset):\n",
    "    def __init__(self, sequences, seq_len):\n",
    "        self.samples = []\n",
    "        for seq in sequences:\n",
    "            ids = encode(seq, add_bos=True)\n",
    "            if len(ids) <= seq_len: continue\n",
    "            for i in range(seq_len, len(ids)):\n",
    "                self.samples.append((ids[i-seq_len:i], ids[i]))\n",
    "    def __len__(self): return len(self.samples)\n",
    "    def __getitem__(self, idx):\n",
    "        x, y = self.samples[idx]\n",
    "        return torch.tensor(x, dtype=torch.long), torch.tensor(y, dtype=torch.long)\n",
    "\n",
    "train_data = NextTokenDataset(train_seqs, cfg.seq_len)\n",
    "val_data   = NextTokenDataset(val_seqs,   cfg.seq_len)\n",
    "test_data  = NextTokenDataset(test_seqs,  cfg.seq_len)\n",
    "\n",
    "train_loader = DataLoader(train_data, batch_size=cfg.batch_size, shuffle=True, drop_last=True)\n",
    "val_loader   = DataLoader(val_data,   batch_size=cfg.batch_size, shuffle=False)\n",
    "test_loader  = DataLoader(test_data,  batch_size=cfg.batch_size, shuffle=False)\n",
    "\n",
    "len(train_data), len(val_data), len(test_data)\n"
   ]
  },
  {
   "cell_type": "markdown",
   "id": "abfd5605",
   "metadata": {
    "id": "abfd5605"
   },
   "source": [
    "## 7) Modelo GRU"
   ]
  },
  {
   "cell_type": "code",
   "execution_count": 9,
   "id": "0fe182f4",
   "metadata": {
    "executionInfo": {
     "elapsed": 2,
     "status": "ok",
     "timestamp": 1756230453479,
     "user": {
      "displayName": "Antonio L. Trapote",
      "userId": "06525061061648817839"
     },
     "user_tz": -120
    },
    "id": "0fe182f4"
   },
   "outputs": [],
   "source": [
    "\n",
    "#@title Definición del modelo\n",
    "import torch.nn as nn\n",
    "class ChordGRU(nn.Module):\n",
    "    def __init__(self, vocab_size, embedding_dim, hidden_size, num_layers, dropout):\n",
    "        super().__init__()\n",
    "        self.emb = nn.Embedding(vocab_size, embedding_dim)\n",
    "        self.rnn = nn.GRU(embedding_dim, hidden_size, num_layers=num_layers,\n",
    "                                   batch_first=True, dropout=dropout if num_layers>1 else 0.0)\n",
    "        self.dropout = nn.Dropout(dropout)\n",
    "        self.fc = nn.Linear(hidden_size, vocab_size)\n",
    "    def forward(self, x):\n",
    "        e = self.emb(x)\n",
    "        o, _ = self.rnn(e)\n",
    "        return self.fc(self.dropout(o[:, -1, :]))\n"
   ]
  },
  {
   "cell_type": "markdown",
   "id": "8a83d383",
   "metadata": {
    "id": "8a83d383"
   },
   "source": [
    "## 8) Entrenamiento y métricas (Top@K, MRR, PPL)"
   ]
  },
  {
   "cell_type": "code",
   "execution_count": 10,
   "id": "66f6479c",
   "metadata": {
    "executionInfo": {
     "elapsed": 3,
     "status": "ok",
     "timestamp": 1756230453495,
     "user": {
      "displayName": "Antonio L. Trapote",
      "userId": "06525061061648817839"
     },
     "user_tz": -120
    },
    "id": "66f6479c"
   },
   "outputs": [],
   "source": [
    "\n",
    "#@title Utils\n",
    "import math, time, os, torch\n",
    "import torch.nn.functional as F\n",
    "\n",
    "def topk_metrics(logits, targets, ks=(1,3,5)):\n",
    "    out = {}\n",
    "    with torch.no_grad():\n",
    "        for k in ks:\n",
    "            topk = logits.topk(k, dim=-1).indices\n",
    "            out[f\"Top@{k}\"] = (topk == targets.unsqueeze(1)).any(dim=1).float().mean().item()\n",
    "        ranks = (logits.argsort(dim=-1, descending=True) == targets.unsqueeze(1)).nonzero(as_tuple=False)[:,1] + 1\n",
    "        out[\"MRR\"] = (1.0 / ranks.float()).mean().item()\n",
    "    return out\n",
    "\n",
    "def evaluate(model, loader, criterion):\n",
    "    model.eval()\n",
    "    total, n = 0.0, 0\n",
    "    agg = {\"Top@1\":0.0,\"Top@3\":0.0,\"Top@5\":0.0,\"MRR\":0.0}\n",
    "    with torch.no_grad():\n",
    "        for x,y in loader:\n",
    "            x,y = x.to(device), y.to(device)\n",
    "            logits = model(x)\n",
    "            loss = criterion(logits, y)\n",
    "            b = x.size(0); total += loss.item()*b; n += b\n",
    "            m = topk_metrics(logits, y)\n",
    "            for k in agg: agg[k] += m[k]*b\n",
    "    for k in agg: agg[k] /= max(1,n)\n",
    "    return {\"loss\": total/max(1,n), \"ppl\": math.exp(total/max(1,n)), **agg}\n",
    "\n",
    "def train_model(model, train_loader, val_loader, epochs, lr, weight_decay, grad_clip=1.0, amp=True, save_dir=\".\", save_name=\"best.pt\"):\n",
    "    os.makedirs(save_dir, exist_ok=True)\n",
    "    scaler = torch.cuda.amp.GradScaler(enabled=(amp and device.type=='cuda'))\n",
    "    opt = torch.optim.AdamW(model.parameters(), lr=lr, weight_decay=weight_decay)\n",
    "    crit = torch.nn.CrossEntropyLoss()\n",
    "    best_mrr, best_path = -1.0, os.path.join(save_dir, save_name)\n",
    "    for ep in range(1, epochs+1):\n",
    "        model.train(); t0 = time.time()\n",
    "        for i,(x,y) in enumerate(train_loader,1):\n",
    "            x,y = x.to(device), y.to(device)\n",
    "            opt.zero_grad(set_to_none=True)\n",
    "            with torch.cuda.amp.autocast(enabled=(amp and device.type=='cuda')):\n",
    "                logits = model(x); loss = crit(logits,y)\n",
    "            scaler.scale(loss).backward()\n",
    "            if grad_clip is not None:\n",
    "                scaler.unscale_(opt)\n",
    "                torch.nn.utils.clip_grad_norm_(model.parameters(), grad_clip)\n",
    "            scaler.step(opt); scaler.update()\n",
    "            if i % 100 == 0: print(f\"Ep{ep} step {i}/{len(train_loader)} loss {loss.item():.4f}\")\n",
    "        valm = evaluate(model, val_loader, crit)\n",
    "        print(f\"Epoch {ep} | val loss {valm['loss']:.4f} ppl {valm['ppl']:.2f} Top@1 {valm['Top@1']:.3f} Top@3 {valm['Top@3']:.3f} Top@5 {valm['Top@5']:.3f} MRR {valm['MRR']:.3f}\")\n",
    "        if valm[\"MRR\"] > best_mrr:\n",
    "            best_mrr = valm[\"MRR\"]\n",
    "            torch.save({\"model_state\": model.state_dict(), \"config\": dict(vars(cfg)), \"stoi\": stoi, \"itos\": itos}, best_path)\n",
    "            print(\"🔥 Guardado best ->\", best_path, \"| MRR:\", best_mrr)\n",
    "    return best_mrr, best_path\n"
   ]
  },
  {
   "cell_type": "markdown",
   "id": "6cd7430c",
   "metadata": {
    "id": "6cd7430c"
   },
   "source": [
    "## 9) Entrenar GRU"
   ]
  },
  {
   "cell_type": "code",
   "execution_count": 11,
   "id": "464a26fd",
   "metadata": {
    "colab": {
     "base_uri": "https://localhost:8080/"
    },
    "executionInfo": {
     "elapsed": 29795,
     "status": "ok",
     "timestamp": 1756230483303,
     "user": {
      "displayName": "Antonio L. Trapote",
      "userId": "06525061061648817839"
     },
     "user_tz": -120
    },
    "id": "464a26fd",
    "outputId": "5a48f4d0-787b-4f2e-ebc2-3cd8bbb15541"
   },
   "outputs": [
    {
     "name": "stderr",
     "output_type": "stream",
     "text": [
      "/tmp/ipython-input-1507830936.py:32: FutureWarning: `torch.cuda.amp.GradScaler(args...)` is deprecated. Please use `torch.amp.GradScaler('cuda', args...)` instead.\n",
      "  scaler = torch.cuda.amp.GradScaler(enabled=(amp and device.type=='cuda'))\n",
      "/tmp/ipython-input-1507830936.py:41: FutureWarning: `torch.cuda.amp.autocast(args...)` is deprecated. Please use `torch.amp.autocast('cuda', args...)` instead.\n",
      "  with torch.cuda.amp.autocast(enabled=(amp and device.type=='cuda')):\n"
     ]
    },
    {
     "name": "stdout",
     "output_type": "stream",
     "text": [
      "Ep1 step 100/476 loss 2.2282\n",
      "Ep1 step 200/476 loss 2.3747\n",
      "Ep1 step 300/476 loss 2.0149\n",
      "Ep1 step 400/476 loss 2.0779\n",
      "Epoch 1 | val loss 2.1584 ppl 8.66 Top@1 0.442 Top@3 0.676 Top@5 0.763 MRR 0.585\n",
      "🔥 Guardado best -> /content/models_gru_v1/gru_best.pt | MRR: 0.584794789535765\n",
      "Ep2 step 100/476 loss 2.1084\n",
      "Ep2 step 200/476 loss 2.1919\n",
      "Ep2 step 300/476 loss 2.1190\n",
      "Ep2 step 400/476 loss 2.1181\n",
      "Epoch 2 | val loss 2.1306 ppl 8.42 Top@1 0.448 Top@3 0.685 Top@5 0.768 MRR 0.591\n",
      "🔥 Guardado best -> /content/models_gru_v1/gru_best.pt | MRR: 0.591246411382035\n",
      "Ep3 step 100/476 loss 2.0119\n",
      "Ep3 step 200/476 loss 1.8909\n",
      "Ep3 step 300/476 loss 1.8901\n",
      "Ep3 step 400/476 loss 2.1402\n",
      "Epoch 3 | val loss 2.1259 ppl 8.38 Top@1 0.455 Top@3 0.688 Top@5 0.770 MRR 0.597\n",
      "🔥 Guardado best -> /content/models_gru_v1/gru_best.pt | MRR: 0.5970695267882555\n",
      "Ep4 step 100/476 loss 1.9535\n",
      "Ep4 step 200/476 loss 1.8190\n",
      "Ep4 step 300/476 loss 1.8945\n",
      "Ep4 step 400/476 loss 2.0423\n",
      "Epoch 4 | val loss 2.1204 ppl 8.33 Top@1 0.459 Top@3 0.687 Top@5 0.770 MRR 0.598\n",
      "🔥 Guardado best -> /content/models_gru_v1/gru_best.pt | MRR: 0.59776738731107\n",
      "Ep5 step 100/476 loss 1.9358\n",
      "Ep5 step 200/476 loss 1.9275\n",
      "Ep5 step 300/476 loss 1.6719\n",
      "Ep5 step 400/476 loss 1.6908\n",
      "Epoch 5 | val loss 2.1479 ppl 8.57 Top@1 0.457 Top@3 0.688 Top@5 0.771 MRR 0.597\n",
      "Ep6 step 100/476 loss 1.7920\n",
      "Ep6 step 200/476 loss 1.8874\n",
      "Ep6 step 300/476 loss 1.6937\n",
      "Ep6 step 400/476 loss 2.0884\n",
      "Epoch 6 | val loss 2.1510 ppl 8.59 Top@1 0.457 Top@3 0.688 Top@5 0.771 MRR 0.597\n",
      "Best MRR: 0.59776738731107 | path: /content/models_gru_v1/gru_best.pt\n"
     ]
    }
   ],
   "source": [
    "\n",
    "#@title Train\n",
    "import torch, os, json\n",
    "torch.manual_seed(cfg.random_state)\n",
    "model = ChordGRU(vocab_size=len(vocab), embedding_dim=cfg.embedding_dim,\n",
    "                          hidden_size=cfg.hidden_size, num_layers=cfg.num_layers,\n",
    "                          dropout=cfg.dropout).to(device)\n",
    "best_mrr, best_path = train_model(model, train_loader, val_loader, cfg.epochs, cfg.lr, cfg.weight_decay,\n",
    "                                  grad_clip=cfg.grad_clip, amp=cfg.amp, save_dir=cfg.save_dir, save_name=cfg.save_name)\n",
    "print(\"Best MRR:\", best_mrr, \"| path:\", best_path)\n"
   ]
  },
  {
   "cell_type": "markdown",
   "id": "788c8524",
   "metadata": {
    "id": "788c8524"
   },
   "source": [
    "## 10) Evaluación en Test"
   ]
  },
  {
   "cell_type": "code",
   "execution_count": 12,
   "id": "2cd6eb80",
   "metadata": {
    "colab": {
     "base_uri": "https://localhost:8080/"
    },
    "executionInfo": {
     "elapsed": 277,
     "status": "ok",
     "timestamp": 1756230483594,
     "user": {
      "displayName": "Antonio L. Trapote",
      "userId": "06525061061648817839"
     },
     "user_tz": -120
    },
    "id": "2cd6eb80",
    "outputId": "c10def60-209e-4a0f-92a7-c14997ef504c"
   },
   "outputs": [
    {
     "name": "stdout",
     "output_type": "stream",
     "text": [
      "Test: {'loss': 2.1969814152866194, 'ppl': 8.997811807607055, 'Top@1': 0.4319989573755014, 'Top@3': 0.6775329250729151, 'Top@5': 0.7616377626377533, 'MRR': 0.5797308985110382}\n"
     ]
    }
   ],
   "source": [
    "\n",
    "#@title Test\n",
    "import torch, os\n",
    "ckpt = torch.load(os.path.join(cfg.save_dir, cfg.save_name), map_location=device)\n",
    "model.load_state_dict(ckpt[\"model_state\"])\n",
    "test_metrics = evaluate(model, test_loader, torch.nn.CrossEntropyLoss())\n",
    "print(\"Test:\", test_metrics)\n"
   ]
  },
  {
   "cell_type": "markdown",
   "id": "42ce4cb8",
   "metadata": {
    "id": "42ce4cb8"
   },
   "source": [
    "## 11) predict_next(context, k=5)"
   ]
  },
  {
   "cell_type": "code",
   "execution_count": 13,
   "id": "d4c75249",
   "metadata": {
    "colab": {
     "base_uri": "https://localhost:8080/"
    },
    "executionInfo": {
     "elapsed": 11,
     "status": "ok",
     "timestamp": 1756230483595,
     "user": {
      "displayName": "Antonio L. Trapote",
      "userId": "06525061061648817839"
     },
     "user_tz": -120
    },
    "id": "d4c75249",
    "outputId": "80e1967d-d9f0-4c8a-d6c7-72b353402dc0"
   },
   "outputs": [
    {
     "name": "stdout",
     "output_type": "stream",
     "text": [
      "Context: ['III', 'III', '#IV', '#IV', 'bII', 'bII', 'natIII', 'natIII', 'III', '#IV', 'IV', 'VI', 'V', 'bVII', 'natVI', 'I', 'II', 'VII', 'VI', 'IV', 'III', 'I', 'VII', 'natVI']\n",
      "Pred: [('VII', 0.13458140194416046), ('VI', 0.12113039195537567), ('I', 0.11372911930084229), ('IV', 0.08486910164356232), ('III', 0.07772155851125717)]\n"
     ]
    }
   ],
   "source": [
    "\n",
    "#@title predict_next()\n",
    "import torch.nn.functional as F\n",
    "def predict_next(context_tokens, k=5):\n",
    "    model.eval()\n",
    "    ids = [stoi.get(t, stoi[\"<unk>\"]) for t in context_tokens]\n",
    "    if len(ids) < cfg.seq_len:\n",
    "        ids = [stoi[\"<bos>\"]] * (cfg.seq_len - len(ids)) + ids\n",
    "    else:\n",
    "        ids = ids[-cfg.seq_len:]\n",
    "    import torch\n",
    "    x = torch.tensor(ids, dtype=torch.long, device=device).unsqueeze(0)\n",
    "    with torch.no_grad():\n",
    "        logits = model(x)\n",
    "        probs = F.softmax(logits[0], dim=-1)\n",
    "        topk = torch.topk(probs, k)\n",
    "        return [(itos[i], float(p)) for i,p in zip(topk.indices.tolist(), topk.values.tolist())]\n",
    "\n",
    "# Ejemplo rápido (si hay datos)\n",
    "if len(train_seqs):\n",
    "    ctx = train_seqs[0][:cfg.seq_len]\n",
    "    print(\"Context:\", ctx)\n",
    "    print(\"Pred:\", predict_next(ctx, k=5))\n"
   ]
  },
  {
   "cell_type": "markdown",
   "id": "24124ee2",
   "metadata": {
    "id": "24124ee2"
   },
   "source": [
    "\n",
    "### Roadmap corto\n",
    "- Añadir **posición en compás** y **duración** como embeddings adicionales (v2).\n",
    "- Re-ranking suave para evitar repes y favorecer cadencias.\n",
    "- Ajustar `seq_len`, capas y *scheduler* cuando confirmes el pipeline.\n"
   ]
  }
 ],
 "metadata": {
  "accelerator": "GPU",
  "colab": {
   "gpuType": "T4",
   "provenance": [],
   "toc_visible": true
  },
  "kernelspec": {
   "display_name": "Python 3",
   "name": "python3"
  },
  "language_info": {
   "name": "python"
  }
 },
 "nbformat": 4,
 "nbformat_minor": 5
}
