{
 "cells": [
  {
   "cell_type": "markdown",
   "id": "f0504b02",
   "metadata": {},
   "source": [
    "# Predicciones con modelo Kneser–Ney"
   ]
  },
  {
   "cell_type": "markdown",
   "id": "6f6c394e",
   "metadata": {},
   "source": [
    "## 1) Cargamos el modelo"
   ]
  },
  {
   "cell_type": "code",
   "execution_count": 3,
   "id": "104df859",
   "metadata": {},
   "outputs": [],
   "source": [
    "import sys\n",
    "import os\n",
    "sys.path.append(os.path.join(os.getcwd(), '../../..'))\n",
    "from anexos.models.kn_gs_v2.kn_model import KNInterpolatedNGram \n",
    "import joblib\n",
    "best_kn = joblib.load('../../models/kn_gs_v2/best_kn_model.pkl') # ajustar ruta si fuera necesario"
   ]
  },
  {
   "cell_type": "markdown",
   "id": "aac4a806",
   "metadata": {},
   "source": [
    "# 2) Definimos la función de predicción"
   ]
  },
  {
   "cell_type": "code",
   "execution_count": 4,
   "id": "9bbe5489",
   "metadata": {},
   "outputs": [],
   "source": [
    "def topk_next(model, context, k=5, exclude_special=True):\n",
    "    \"\"\"Devuelve las k mejores sugerencias (token, prob) dado el contexto.\"\"\"\n",
    "    ranking = model.predict_ranking(context)\n",
    "    if exclude_special:\n",
    "        ranking = [(w,p) for (w,p) in ranking if w not in {\"<s>\", \"</s>\", \"<unk>\"}]\n",
    "    return ranking[:k]"
   ]
  },
  {
   "cell_type": "markdown",
   "id": "d87ac700",
   "metadata": {},
   "source": [
    "## 3) Evaluamos el rendimiento del modelo Kneser–Ney con algunas progresiones clásicas de acordes"
   ]
  },
  {
   "cell_type": "markdown",
   "id": "d37dc10d",
   "metadata": {},
   "source": [
    "### Modo mayor"
   ]
  },
  {
   "cell_type": "code",
   "execution_count": 5,
   "id": "63540bf4",
   "metadata": {},
   "outputs": [
    {
     "data": {
      "text/plain": [
       "[('I', 0.3734150220734017),\n",
       " ('ii', 0.10753082407664535),\n",
       " ('vi', 0.105420704083276),\n",
       " ('V7', 0.052316504322354795),\n",
       " ('IV', 0.04821778901796282)]"
      ]
     },
     "execution_count": 5,
     "metadata": {},
     "output_type": "execute_result"
    }
   ],
   "source": [
    "#@title Echamos un vistazo a las sugerencias desde el acorde de tónica.\n",
    "pred = topk_next(best_kn, [\"I\"], k=5)\n",
    "pred"
   ]
  },
  {
   "cell_type": "code",
   "execution_count": 4,
   "id": "bc3f092b",
   "metadata": {},
   "outputs": [
    {
     "data": {
      "text/plain": [
       "[('I', 0.5147374520306233),\n",
       " ('V7', 0.20810002151938234),\n",
       " ('I7', 0.06348083569710526),\n",
       " ('II', 0.05433766157067823),\n",
       " ('i', 0.029277076949103812)]"
      ]
     },
     "execution_count": 4,
     "metadata": {},
     "output_type": "execute_result"
    }
   ],
   "source": [
    "#@title [\"II\", \"V7\"] > \"I\" \n",
    "pred = topk_next(best_kn, [\"II\", \"V7\"], k=5) # top1\n",
    "pred"
   ]
  },
  {
   "cell_type": "code",
   "execution_count": 5,
   "id": "62a4751a",
   "metadata": {},
   "outputs": [
    {
     "data": {
      "text/plain": [
       "[('V', 0.3619163310072302),\n",
       " ('IV', 0.3145394182731477),\n",
       " ('I', 0.12915102984178167),\n",
       " ('vi', 0.09827329856710684),\n",
       " ('v', 0.04347285267236621)]"
      ]
     },
     "execution_count": 5,
     "metadata": {},
     "output_type": "execute_result"
    }
   ],
   "source": [
    "#@title pop-punk [\"I\", \"V\"] >  \"vi\" \"IV\" \n",
    "pred = topk_next(best_kn, [\"I\", \"V\"], k=5) # top4 : vi\n",
    "pred"
   ]
  },
  {
   "cell_type": "code",
   "execution_count": null,
   "id": "0f46bb4d",
   "metadata": {},
   "outputs": [
    {
     "data": {
      "text/plain": [
       "[('II7', 0.21186953407468012),\n",
       " ('V', 0.16701901045989845),\n",
       " ('V/V', 0.1431200511922982),\n",
       " ('Vsub/II', 0.1044223682400282),\n",
       " ('vi', 0.09645031890317396),\n",
       " ('ii', 0.09193630138192463),\n",
       " ('IV', 0.07803668716106835),\n",
       " ('II', 0.05532994827095102),\n",
       " ('iii', 0.011144622733064845),\n",
       " ('vii', 0.00932151579384689)]"
      ]
     },
     "execution_count": 5,
     "metadata": {},
     "output_type": "execute_result"
    }
   ],
   "source": [
    "#@title pop-punk [\"I\", \"V\", \"vi\"] > \"IV\" \n",
    "pred = topk_next(best_kn, [\"I\", \"V\", 'vi'], k=10) # top7 : IV\n",
    "pred"
   ]
  },
  {
   "cell_type": "code",
   "execution_count": null,
   "id": "1bedd955",
   "metadata": {},
   "outputs": [
    {
     "data": {
      "text/plain": [
       "[('I', 0.5523479680300832),\n",
       " ('iii', 0.17868779919129707),\n",
       " ('V7', 0.09357061851630752),\n",
       " ('V', 0.07075552203473516),\n",
       " ('IV', 0.06705918922323578)]"
      ]
     },
     "metadata": {},
     "output_type": "display_data"
    }
   ],
   "source": [
    "#@title [\"I\", \"IV\"] > \"I\" \n",
    "pred = topk_next(best_kn, [\"I\", \"IV\"], k=5) # top1 : I\n",
    "pred"
   ]
  },
  {
   "cell_type": "code",
   "execution_count": null,
   "id": "dda66e61",
   "metadata": {},
   "outputs": [
    {
     "data": {
      "text/plain": [
       "[('I', 0.6852342845268492),\n",
       " ('bVII7', 0.0911883723274025),\n",
       " ('iii', 0.07167197964826987),\n",
       " ('iv', 0.05531088804241253),\n",
       " ('V', 0.0168095248648733)]"
      ]
     },
     "metadata": {},
     "output_type": "display_data"
    }
   ],
   "source": [
    "#@title [\"IV\", \"iv\"] > \"I\" \n",
    "pred = topk_next(best_kn, [\"IV\", \"iv\"], k=5) # top1\n",
    "pred"
   ]
  },
  {
   "cell_type": "code",
   "execution_count": null,
   "id": "94e14cd2",
   "metadata": {},
   "outputs": [
    {
     "data": {
      "text/plain": [
       "[('ii', 0.2536295068957499),\n",
       " ('IV', 0.19301160791927907),\n",
       " ('vi', 0.12225064852545692),\n",
       " ('V/II', 0.11544736712344839),\n",
       " ('biiio', 0.0866727151744685)]"
      ]
     },
     "metadata": {},
     "output_type": "display_data"
    }
   ],
   "source": [
    "#@title [\"i\", \"ii\", \"iii\"] > \"ii\" o \"IV\"\n",
    "pred = topk_next(best_kn, [\"I\", \"ii\", \"iii\"], k=5) # top1 top2\n",
    "pred"
   ]
  },
  {
   "cell_type": "code",
   "execution_count": 11,
   "id": "168a0489",
   "metadata": {},
   "outputs": [
    {
     "data": {
      "text/plain": [
       "[('V7', 0.8007619646811053),\n",
       " ('ii', 0.0912653006604839),\n",
       " ('vi', 0.030674614403312553),\n",
       " ('Vsub/III', 0.020604351350864265),\n",
       " ('I', 0.010689323093255666)]"
      ]
     },
     "execution_count": 11,
     "metadata": {},
     "output_type": "execute_result"
    }
   ],
   "source": [
    "#@title [\"vi\", \"ii\"] > \"V7\"\n",
    "pred = topk_next(best_kn, [\"vi\", \"ii\"], k=5) # top1\n",
    "pred"
   ]
  },
  {
   "cell_type": "code",
   "execution_count": 12,
   "id": "40bb7826",
   "metadata": {},
   "outputs": [
    {
     "data": {
      "text/plain": [
       "[('I', 0.5923288712978145),\n",
       " ('IV', 0.2997835833604025),\n",
       " ('bVII', 0.038251036525888314),\n",
       " ('V/IV', 0.01421183877548663),\n",
       " ('V7', 0.013465340638542427)]"
      ]
     },
     "execution_count": 12,
     "metadata": {},
     "output_type": "execute_result"
    }
   ],
   "source": [
    "#@title [\"I\", \"bVII\"] > \"I\"\n",
    "pred = topk_next(best_kn, [\"I\", \"bVII\"], k=5) # top1\n",
    "pred"
   ]
  },
  {
   "cell_type": "markdown",
   "id": "f054a303",
   "metadata": {},
   "source": [
    "### Modo menor"
   ]
  },
  {
   "cell_type": "code",
   "execution_count": null,
   "id": "b4ba4dc2",
   "metadata": {},
   "outputs": [
    {
     "data": {
      "text/plain": [
       "[('i', 0.4567366640398732),\n",
       " ('iiø', 0.11593073164806672),\n",
       " ('V7', 0.09815538622614726),\n",
       " ('VI', 0.049291912898090054),\n",
       " ('iv', 0.043694122784600234)]"
      ]
     },
     "metadata": {},
     "output_type": "display_data"
    }
   ],
   "source": [
    "pred = topk_next(best_kn, [\"i\"], k=5)\n",
    "pred"
   ]
  },
  {
   "cell_type": "code",
   "execution_count": 13,
   "id": "31f6b0e1",
   "metadata": {},
   "outputs": [
    {
     "data": {
      "text/plain": [
       "[('i', 0.3797665999357742),\n",
       " ('I', 0.3726490852969921),\n",
       " ('V7', 0.10379978030365061),\n",
       " ('iiø', 0.092943737965714),\n",
       " ('VI', 0.005684761530808764)]"
      ]
     },
     "execution_count": 13,
     "metadata": {},
     "output_type": "execute_result"
    }
   ],
   "source": [
    "#@title [\"iiø\", \"V7\"] > \"i\"\n",
    "pred = topk_next(best_kn, [\"iiø\", \"V7\"], k=5) # top1\n",
    "pred"
   ]
  },
  {
   "cell_type": "code",
   "execution_count": 14,
   "id": "a4ab8f91",
   "metadata": {},
   "outputs": [
    {
     "data": {
      "text/plain": [
       "[('V7', 0.9499133790613948),\n",
       " ('iiø', 0.0404212015707477),\n",
       " ('i', 0.0018882724017321784),\n",
       " ('I', 0.0014848214171321683),\n",
       " ('bVI7', 0.0013082564348126887)]"
      ]
     },
     "execution_count": 14,
     "metadata": {},
     "output_type": "execute_result"
    }
   ],
   "source": [
    "#@title [\"VI\", \"iiø\"] > \"V7\"\n",
    "pred = topk_next(best_kn, [\"VI\", \"iiø\"], k=5) # top1\n",
    "pred"
   ]
  },
  {
   "cell_type": "code",
   "execution_count": 15,
   "id": "63cb99b8",
   "metadata": {},
   "outputs": [
    {
     "data": {
      "text/plain": [
       "[('V7', 0.3352135194999175),\n",
       " ('i', 0.2714959128569826),\n",
       " ('iv', 0.15174976164566029),\n",
       " ('V/III', 0.07723979242357881),\n",
       " ('bVII7', 0.04196969293049771)]"
      ]
     },
     "execution_count": 15,
     "metadata": {},
     "output_type": "execute_result"
    }
   ],
   "source": [
    "#@title [\"i\", \"iv\"] > \"V7\"\n",
    "pred = topk_next(best_kn, [\"i\", \"iv\"], k=5) # top1\n",
    "pred"
   ]
  },
  {
   "cell_type": "markdown",
   "id": "a2ce68d7",
   "metadata": {},
   "source": [
    "### Probamos con dominantes secundarios o sustitutos"
   ]
  },
  {
   "cell_type": "code",
   "execution_count": 37,
   "id": "226101aa",
   "metadata": {},
   "outputs": [
    {
     "data": {
      "text/plain": [
       "[('iv', 0.8902333980552132),\n",
       " ('IV7', 0.057264088830162325),\n",
       " ('IV', 0.051865587765010976),\n",
       " ('Vsub/III', 0.0003623594832244842),\n",
       " ('ivo', 0.00011519815686804315)]"
      ]
     },
     "execution_count": 37,
     "metadata": {},
     "output_type": "execute_result"
    }
   ],
   "source": [
    "#@title [\"i\", \"V/IV\"] > \"iv\"\n",
    "pred = topk_next(best_kn, [\"i\",\"V/IV\"], k=5) # top1\n",
    "pred"
   ]
  },
  {
   "cell_type": "code",
   "execution_count": 21,
   "id": "e82cfd07",
   "metadata": {},
   "outputs": [
    {
     "data": {
      "text/plain": [
       "[('V7', 0.9681584477001454),\n",
       " ('v', 0.0282699915704652),\n",
       " ('V', 0.003155644318534363),\n",
       " ('vø', 0.00010456807308590371),\n",
       " ('vi', 6.943650702937479e-06)]"
      ]
     },
     "execution_count": 21,
     "metadata": {},
     "output_type": "execute_result"
    }
   ],
   "source": [
    "#@title [\"I\", \"Vsub/V\"] > \"V7\"\n",
    "pred = topk_next(best_kn, [\"I\", \"Vsub/V\"], k=5) # top1\n",
    "pred"
   ]
  },
  {
   "cell_type": "code",
   "execution_count": 27,
   "id": "afb99c24",
   "metadata": {},
   "outputs": [
    {
     "data": {
      "text/plain": [
       "[('ii', 0.8636335920722978),\n",
       " ('V7', 0.12125336491141733),\n",
       " ('v', 0.006953592240068002),\n",
       " ('V/V', 0.0014713261117573371),\n",
       " ('biio', 0.001166692577845383)]"
      ]
     },
     "execution_count": 27,
     "metadata": {},
     "output_type": "execute_result"
    }
   ],
   "source": [
    "#@title [\"I\", \"biio\"] > \"ii\"\n",
    "pred = topk_next(best_kn, [\"I\", \"biio\"], k=5) # top1\n",
    "pred"
   ]
  },
  {
   "cell_type": "markdown",
   "id": "7d5a1e5d",
   "metadata": {},
   "source": [
    "## Componiendo una progresión"
   ]
  },
  {
   "cell_type": "code",
   "execution_count": 4,
   "id": "8455725d",
   "metadata": {},
   "outputs": [
    {
     "data": {
      "text/plain": [
       "[('V7', 0.9886360585969368),\n",
       " ('i', 0.009514461811495038),\n",
       " ('iiø', 0.0017383814376694122),\n",
       " ('I', 3.0499034514066163e-05),\n",
       " ('ii', 1.239012868759704e-05)]"
      ]
     },
     "execution_count": 4,
     "metadata": {},
     "output_type": "execute_result"
    }
   ],
   "source": [
    "pred = topk_next(best_kn, [\"i\", 'iiø'], k=5)\n",
    "pred"
   ]
  },
  {
   "cell_type": "code",
   "execution_count": 5,
   "id": "63b32fb0",
   "metadata": {},
   "outputs": [
    {
     "data": {
      "text/plain": [
       "[('i', 0.3797404604722146),\n",
       " ('iv', 0.08423017960051365),\n",
       " ('V7', 0.072119240695104),\n",
       " ('IV7', 0.049583448385923795),\n",
       " ('VI', 0.04470348488940704)]"
      ]
     },
     "execution_count": 5,
     "metadata": {},
     "output_type": "execute_result"
    }
   ],
   "source": [
    "pred = topk_next(best_kn, [\"i\", 'iiø', \"i\", \"i\"], k=5)\n",
    "pred"
   ]
  },
  {
   "cell_type": "code",
   "execution_count": 6,
   "id": "31615a4b",
   "metadata": {},
   "outputs": [
    {
     "data": {
      "text/plain": [
       "[('iv', 0.46080449778367755),\n",
       " ('V/III', 0.18703886757562485),\n",
       " ('V7', 0.12931543117271077),\n",
       " ('i', 0.09611736438957834),\n",
       " ('bVII7', 0.032257574949735905)]"
      ]
     },
     "execution_count": 6,
     "metadata": {},
     "output_type": "execute_result"
    }
   ],
   "source": [
    "pred = topk_next(best_kn, [\"i\", 'iiø', \"i\", \"i\", \"iv\"], k=5)\n",
    "pred"
   ]
  },
  {
   "cell_type": "code",
   "execution_count": 8,
   "id": "de80b3ca",
   "metadata": {},
   "outputs": [
    {
     "data": {
      "text/plain": [
       "[('III', 0.9939206301405261),\n",
       " ('iii', 0.005478190871580312),\n",
       " ('iiio', 0.00042881693117342943),\n",
       " ('V/VI', 8.180946641489668e-05),\n",
       " ('III7', 4.003178716872721e-05)]"
      ]
     },
     "execution_count": 8,
     "metadata": {},
     "output_type": "execute_result"
    }
   ],
   "source": [
    "pred = topk_next(best_kn, [\"i\", 'iiø', \"i\", \"i\", \"iv\", 'V/III'], k=5)\n",
    "pred"
   ]
  },
  {
   "cell_type": "code",
   "execution_count": 9,
   "id": "a4379a69",
   "metadata": {},
   "outputs": [
    {
     "data": {
      "text/plain": [
       "[('III', 0.27511384963495844),\n",
       " ('VI', 0.22096722613743172),\n",
       " ('iiø', 0.0757880053672258),\n",
       " ('i', 0.050073249851847815),\n",
       " ('V7', 0.046598375713362845)]"
      ]
     },
     "execution_count": 9,
     "metadata": {},
     "output_type": "execute_result"
    }
   ],
   "source": [
    "pred = topk_next(best_kn, [\"i\", 'iiø', \"i\", \"i\", \"iv\", 'V/III', 'III'], k=5)\n",
    "pred"
   ]
  },
  {
   "cell_type": "code",
   "execution_count": 10,
   "id": "2d9b7aee",
   "metadata": {},
   "outputs": [
    {
     "data": {
      "text/plain": [
       "[('III', 0.2639272806588385),\n",
       " ('iiø', 0.15022034452402674),\n",
       " ('iii', 0.08962676098542652),\n",
       " ('V7', 0.07574027016341532),\n",
       " ('ii', 0.05883997728380215)]"
      ]
     },
     "execution_count": 10,
     "metadata": {},
     "output_type": "execute_result"
    }
   ],
   "source": [
    "pred = topk_next(best_kn, [\"i\", 'iiø', \"i\", \"i\", \"iv\", 'V/III', 'III', 'III'], k=5)\n",
    "pred"
   ]
  },
  {
   "cell_type": "code",
   "execution_count": 11,
   "id": "03075397",
   "metadata": {},
   "outputs": [
    {
     "data": {
      "text/plain": [
       "[('V7', 0.7434092941769465),\n",
       " ('iiø', 0.20041885873224874),\n",
       " ('bII7', 0.052511302977086206),\n",
       " ('vi', 0.0024263187366431044),\n",
       " ('I', 0.0002747883791445896)]"
      ]
     },
     "execution_count": 11,
     "metadata": {},
     "output_type": "execute_result"
    }
   ],
   "source": [
    "pred = topk_next(best_kn, [\"i\", 'iiø', \"i\", \"i\", \"iv\", 'V/III', 'III', 'III', 'iiø'], k=5)\n",
    "pred"
   ]
  },
  {
   "cell_type": "code",
   "execution_count": 12,
   "id": "9980fbca",
   "metadata": {},
   "outputs": [
    {
     "data": {
      "text/plain": [
       "[('i', 0.6748276022252877),\n",
       " ('I', 0.04457034709436917),\n",
       " ('natvi', 0.02527255812939513),\n",
       " ('V7', 0.016443019542469205),\n",
       " ('iiø', 0.008424351906493283)]"
      ]
     },
     "execution_count": 12,
     "metadata": {},
     "output_type": "execute_result"
    }
   ],
   "source": [
    "pred = topk_next(best_kn, [\"i\", 'iiø', \"i\", \"i\", \"iv\", 'V/III', 'III', 'III', 'iiø', 'V7'], k=5)\n",
    "pred"
   ]
  }
 ],
 "metadata": {
  "kernelspec": {
   "display_name": ".venv",
   "language": "python",
   "name": "python3"
  },
  "language_info": {
   "codemirror_mode": {
    "name": "ipython",
    "version": 3
   },
   "file_extension": ".py",
   "mimetype": "text/x-python",
   "name": "python",
   "nbconvert_exporter": "python",
   "pygments_lexer": "ipython3",
   "version": "3.12.2"
  }
 },
 "nbformat": 4,
 "nbformat_minor": 5
}
