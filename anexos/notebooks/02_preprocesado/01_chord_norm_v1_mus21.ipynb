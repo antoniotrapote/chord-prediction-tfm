{
 "cells": [
  {
   "cell_type": "markdown",
   "id": "566e37ea",
   "metadata": {},
   "source": [
    "[![Open In Colab](https://colab.research.google.com/assets/colab-badge.svg)](https://colab.research.google.com/github/antoniotrapote/chord-prediction-tfm/blob/main/anexos/notebooks/02_preprocesado/01_chord_norm_v1_mus21.ipynb)\n",
    "[![View on GitHub](https://img.shields.io/badge/View_on-GitHub-black?logo=github)](https://github.com/antoniotrapote/chord-prediction-tfm/blob/main/anexos/notebooks/02_preprocesado/01_chord_norm_v1_mus21.ipynb)"
   ]
  },
  {
   "cell_type": "markdown",
   "id": "31386875",
   "metadata": {},
   "source": [
    "# Transcripción de acordes a notacion funcional utilizando la librería *music21*"
   ]
  },
  {
   "cell_type": "code",
   "execution_count": 1,
   "id": "b8e0ddb5",
   "metadata": {},
   "outputs": [
    {
     "data": {
      "text/html": [
       "<div>\n",
       "<style scoped>\n",
       "    .dataframe tbody tr th:only-of-type {\n",
       "        vertical-align: middle;\n",
       "    }\n",
       "\n",
       "    .dataframe tbody tr th {\n",
       "        vertical-align: top;\n",
       "    }\n",
       "\n",
       "    .dataframe thead th {\n",
       "        text-align: right;\n",
       "    }\n",
       "</style>\n",
       "<table border=\"1\" class=\"dataframe\">\n",
       "  <thead>\n",
       "    <tr style=\"text-align: right;\">\n",
       "      <th></th>\n",
       "      <th>title</th>\n",
       "      <th>composedby</th>\n",
       "      <th>key</th>\n",
       "      <th>timesig</th>\n",
       "      <th>bars</th>\n",
       "      <th>chordprog</th>\n",
       "    </tr>\n",
       "  </thead>\n",
       "  <tbody>\n",
       "    <tr>\n",
       "      <th>0</th>\n",
       "      <td>Lullaby of Birdland</td>\n",
       "      <td>George Shearing</td>\n",
       "      <td>Ab</td>\n",
       "      <td>4 4</td>\n",
       "      <td>32</td>\n",
       "      <td>Fm7 Dm7b5 | G7b9 C7b9 | Fm7 DbM7 | Bbm7 Eb7 |\\...</td>\n",
       "    </tr>\n",
       "    <tr>\n",
       "      <th>1</th>\n",
       "      <td>It's A Most Unusual Day</td>\n",
       "      <td>Jimmy McHugh and HYarold Adamson</td>\n",
       "      <td>G</td>\n",
       "      <td>3 4</td>\n",
       "      <td>72</td>\n",
       "      <td>F#/G F#/G G | Em7 | Am7 | D7 |\\nF#/G F#/G G | ...</td>\n",
       "    </tr>\n",
       "    <tr>\n",
       "      <th>2</th>\n",
       "      <td>Jump Monk</td>\n",
       "      <td>Charles Mingus</td>\n",
       "      <td>Ab</td>\n",
       "      <td>4 4</td>\n",
       "      <td>54</td>\n",
       "      <td>Fm7 DbM7 | G7b5 C7 | Fm7 DbM7 | G7b5 C7 |\\nFm7...</td>\n",
       "    </tr>\n",
       "    <tr>\n",
       "      <th>3</th>\n",
       "      <td>Nuages</td>\n",
       "      <td>Django Reinhardt and Jacques Larme</td>\n",
       "      <td>G</td>\n",
       "      <td>4 4</td>\n",
       "      <td>32</td>\n",
       "      <td>Bbm7 Eb7 | Am7b5 D7b9 | G6 Am7 | Bm7 |\\nBbm7 E...</td>\n",
       "    </tr>\n",
       "    <tr>\n",
       "      <th>4</th>\n",
       "      <td>Love Me Do</td>\n",
       "      <td>John Lennon and Paul McCartney</td>\n",
       "      <td>G</td>\n",
       "      <td>4 4</td>\n",
       "      <td>48</td>\n",
       "      <td>G | C | G | C |\\nG | C | C | C |\\nC | G | C | ...</td>\n",
       "    </tr>\n",
       "  </tbody>\n",
       "</table>\n",
       "</div>"
      ],
      "text/plain": [
       "                     title                          composedby key timesig  \\\n",
       "0      Lullaby of Birdland                     George Shearing  Ab     4 4   \n",
       "1  It's A Most Unusual Day    Jimmy McHugh and HYarold Adamson   G     3 4   \n",
       "2                Jump Monk                      Charles Mingus  Ab     4 4   \n",
       "3                   Nuages  Django Reinhardt and Jacques Larme   G     4 4   \n",
       "4               Love Me Do      John Lennon and Paul McCartney   G     4 4   \n",
       "\n",
       "   bars                                          chordprog  \n",
       "0    32  Fm7 Dm7b5 | G7b9 C7b9 | Fm7 DbM7 | Bbm7 Eb7 |\\...  \n",
       "1    72  F#/G F#/G G | Em7 | Am7 | D7 |\\nF#/G F#/G G | ...  \n",
       "2    54  Fm7 DbM7 | G7b5 C7 | Fm7 DbM7 | G7b5 C7 |\\nFm7...  \n",
       "3    32  Bbm7 Eb7 | Am7b5 D7b9 | G6 Am7 | Bm7 |\\nBbm7 E...  \n",
       "4    48  G | C | G | C |\\nG | C | C | C |\\nC | G | C | ...  "
      ]
     },
     "execution_count": 1,
     "metadata": {},
     "output_type": "execute_result"
    }
   ],
   "source": [
    "import pandas as pd\n",
    "\n",
    "USER = \"antoniotrapote\"\n",
    "REPO = \"chord-prediction-tfm\"\n",
    "BRANCH = \"main\"\n",
    "PATH_IN_REPO = \"anexos/data/songdb.csv\"\n",
    "URL = f\"https://raw.githubusercontent.com/{USER}/{REPO}/{BRANCH}/{PATH_IN_REPO}\"\n",
    "\n",
    "# Cargar el archivo\n",
    "df = pd.read_csv(URL)\n",
    "\n",
    "df.head()"
   ]
  },
  {
   "cell_type": "code",
   "execution_count": 2,
   "id": "0b073506",
   "metadata": {},
   "outputs": [],
   "source": [
    "from music21 import harmony, key as m21key, roman\n",
    "\n",
    "def acorde_a_funcion(acorde_str, tonalidad_str):\n",
    "    \"\"\"\n",
    "    Convierte un acorde a su notación funcional dentro de una tonalidad dada.\n",
    "    Si hay algún error, se devuelve \"?\".\n",
    "    \"\"\"\n",
    "    try:\n",
    "        tonalidad = m21key.Key(tonalidad_str)\n",
    "        acorde = harmony.ChordSymbol(acorde_str)\n",
    "        rn = roman.romanNumeralFromChord(acorde, tonalidad)\n",
    "        return rn.figure\n",
    "    except Exception as e:\n",
    "        return f\"?\"  # Si no se puede analizar el acorde\n"
   ]
  },
  {
   "cell_type": "code",
   "execution_count": null,
   "id": "767ab685",
   "metadata": {},
   "outputs": [
    {
     "name": "stdout",
     "output_type": "stream",
     "text": [
      "v7\n",
      "vi7\n",
      "IV7\n"
     ]
    }
   ],
   "source": [
    "# Prueba rápida\n",
    "print(acorde_a_funcion(\"Gm7\", \"Cm\"))      # Esperado: V7\n",
    "print(acorde_a_funcion(\"Fm7\", \"Ab\"))    # Esperado: i7\n",
    "print(acorde_a_funcion(\"Dmaj7\", \"A\"))   # Esperado: IVmaj7"
   ]
  },
  {
   "cell_type": "code",
   "execution_count": 4,
   "id": "0eb35de0",
   "metadata": {},
   "outputs": [],
   "source": [
    "def transponer_progresion(prog_str, tonalidad_str):\n",
    "    \"\"\"\n",
    "    Convierte una progresión completa a notación funcional,\n",
    "    omitiendo los bajos alternativos (C/G → C).\n",
    "    \"\"\"\n",
    "    compases = prog_str.strip().split(\"|\")\n",
    "    resultado = []\n",
    "\n",
    "    for compas in compases:\n",
    "        acordes = compas.strip().split()\n",
    "        funciones = []\n",
    "        for ac in acordes:\n",
    "            ac_limpio = ac.split(\"/\")[0]  # quitar bajo alternativo\n",
    "            funciones.append(acorde_a_funcion(ac_limpio, tonalidad_str))\n",
    "        resultado.append(\" \".join(funciones))\n",
    "\n",
    "    return \" | \".join(resultado)"
   ]
  },
  {
   "cell_type": "code",
   "execution_count": 5,
   "id": "73846436",
   "metadata": {},
   "outputs": [
    {
     "name": "stdout",
     "output_type": "stream",
     "text": [
      "🎵 I Hear A Rhapsody (Tonalidad: Eb)\n",
      "🔸 Original: Cm9 F#7 | Fm7 Bb7 | EbM7 Ab9 | Gm7b5 C7b9 |\n",
      "Fm7b5 | Bb7 | EbM7 | Dm7b5 G7alt |\n",
      "Cm9 F#7 | Fm7 Bb7 | EbM7 Ab9 | Gm7b5 C7b9 |\n",
      "Fm7b5 | Bb7 | EbM7 | Am7b5 D7 |\n",
      "Gm7 | Am7b5 D7 | Gm | Cm7 F7 |\n",
      "BbM7 | Fm7 | Ab7 | G7alt |\n",
      "Cm9 F#7 | Fm7 Bb7 | EbM7 Gm7b5 | Db7 C7 |\n",
      "Fm7b5 | Bb7 | EbM7 | Dm7b5 G7 |\n",
      "🔹 Funcional: vi7532 #II75#3 | ii7 #V7 | ? #IV53b2 | iiiø7b53 VI75#3b2 | iiø7b53 | #V7 | ? | viiø7 ? | vi7532 #II75#3 | ii7 #V7 | ? #IV53b2 | iiiø7b53 VI75#3b2 | iiø7b53 | #V7 | ? | #ivø7 VII7#5#3 | iii7 | #ivø7 VII7#5#3 | iii | vi7 II75#3 | ? | ii7 | #IVb753 | ? | vi7532 #II75#3 | ii7 #V7 | ? iiiø7b53 | VII7#5#3 VI75#3 | iiø7b53 | #V7 | ? | viiø7 III75#3 | \n",
      "--------------------------------------------------------------------------------\n",
      "🎵 Back Bay Shuffle (Tonalidad: F)\n",
      "🔸 Original: F | F | C7 | C7 |\n",
      "F F7 | Bb Bbm | F C13 | F C7 |\n",
      "F | F | C7 | C7 |\n",
      "F F7 | Bb Bbm | F C13 | F |\n",
      "Am | Am | Am | E7 |\n",
      "C | C | C | C C7 |\n",
      "F | F | C7 | C7 |\n",
      "F F7 | Bb Bbm | F C13 | F |\n",
      "🔹 Funcional: I | I | V7 | V7 | I Ib753 | ? ? | I V765432 | I V7 | I | I | V7 | V7 | I Ib753 | ? ? | I V765432 | I | iii | iii | iii | VII7#5#3 | V | V | V | V V7 | I | I | V7 | V7 | I Ib753 | ? ? | I V765432 | I | \n",
      "--------------------------------------------------------------------------------\n",
      "🎵 Chitlins Con Carne (Tonalidad: C)\n",
      "🔸 Original: C7#9 | C7#9 | C7#9 | C7#9 |\n",
      "F7 | F7 | C7#9 | C7#9 |\n",
      "G7 | F7 | C7#9 | C7#9 |\n",
      "🔹 Funcional: Ib753#2 | Ib753#2 | Ib753#2 | Ib753#2 | IVb753 | IVb753 | Ib753#2 | Ib753#2 | V7 | IVb753 | Ib753#2 | Ib753#2 | \n",
      "--------------------------------------------------------------------------------\n"
     ]
    }
   ],
   "source": [
    "# Transposición de tres canciones de prueba\n",
    "muestra = df[df[\"chordprog\"].notna()].sample(3, random_state=33)\n",
    "\n",
    "for _, fila in muestra.iterrows():\n",
    "    titulo = fila[\"title\"]\n",
    "    tonalidad = fila[\"key\"]\n",
    "    prog_original = fila[\"chordprog\"]\n",
    "    prog_funcional = transponer_progresion(prog_original, tonalidad)\n",
    "\n",
    "    print(f\"🎵 {titulo} (Tonalidad: {tonalidad})\")\n",
    "    print(f\"🔸 Original: {prog_original}\")\n",
    "    print(f\"🔹 Funcional: {prog_funcional}\")\n",
    "    print(\"-\" * 80)\n"
   ]
  },
  {
   "cell_type": "markdown",
   "id": "961c2cdc",
   "metadata": {},
   "source": [
    "Observamos que hay problemas porque todas las canciones tienen asignada una tonalidad mayor en el dataset base\n",
    "\n",
    "Así que vamos a probar a **transcribir una canción que está en tonalidad menor**, para ver si el transcriptor funciona correctamente."
   ]
  },
  {
   "cell_type": "code",
   "execution_count": 7,
   "id": "0453e523",
   "metadata": {},
   "outputs": [
    {
     "name": "stdout",
     "output_type": "stream",
     "text": [
      "🎵 Johnny Come Lately (Tonalidad: Gm)\n",
      "Progresión: Gm7 | Eb7 D7alt | Gm7 | Eb7 D7alt |\n",
      "Gm7 | Eb7 D7alt | Gm7 | Eb7 D7alt |\n",
      "Gm7 | Eb7 D7alt | Gm7 | Eb7 D7alt |\n",
      "Gm7 | Eb7 D7alt | Gm7 | Fm7 Bb7 |\n",
      "EbM7 Fm7 | Gm7 Fm7 | EbM7 Fm7 | Gm7 Fm7 |\n",
      "EbM7 Fm7 | Gm7 C7 | Fm7 Bb7 | A7b9 D7alt |\n",
      "Gm7 | Eb7 D7alt | Gm7 | Eb7 D7alt |\n",
      "Gm7 | Eb7 D7alt | Gm7 | Eb7 D7alt |\n",
      "Progresión Funcional: i7 | VI7#5#3 ? | i7 | VI7#5#3 ? | i7 | VI7#5#3 ? | i7 | VI7#5#3 ? | i7 | VI7#5#3 ? | i7 | VI7#5#3 ? | i7 | VI7#5#3 ? | i7 | bvii75b3 #IIIb753 | ? bvii75b3 | i7 bvii75b3 | ? bvii75b3 | i7 bvii75b3 | ? bvii75b3 | i7 IV75#3 | bvii75b3 #IIIb753 | II7#5#32 ? | i7 | VI7#5#3 ? | i7 | VI7#5#3 ? | i7 | VI7#5#3 ? | i7 | VI7#5#3 ? | \n"
     ]
    }
   ],
   "source": [
    "titulo = 'Johnny Come Lately'\n",
    "tonalidad = 'Gm'\n",
    "progresion = df[df[\"title\"] == titulo].iloc[0][\"chordprog\"]\n",
    "progresion_funcional = transponer_progresion(progresion, tonalidad)\n",
    "\n",
    "print(f\"🎵 {titulo} (Tonalidad: {tonalidad})\"\n",
    "      f\"\\nProgresión: {progresion}\"\n",
    "      f\"\\nProgresión Funcional: {progresion_funcional}\"\n",
    ")"
   ]
  },
  {
   "cell_type": "code",
   "execution_count": 8,
   "id": "960437b6",
   "metadata": {},
   "outputs": [],
   "source": [
    "# Aplicamos la función 'transponer_progresion' a todo el dataset\n",
    "df[\"chordprog_funcional\"] = df.apply(\n",
    "    lambda row: transponer_progresion(row[\"chordprog\"], row[\"key\"]) if pd.notna(row[\"chordprog\"]) else \"\",\n",
    "    axis=1\n",
    ")"
   ]
  },
  {
   "cell_type": "markdown",
   "id": "353e9edf",
   "metadata": {},
   "source": [
    "El proceso es lento (12m 45.9s)"
   ]
  },
  {
   "cell_type": "code",
   "execution_count": 9,
   "id": "4d276ffc",
   "metadata": {},
   "outputs": [
    {
     "data": {
      "text/html": [
       "<div>\n",
       "<style scoped>\n",
       "    .dataframe tbody tr th:only-of-type {\n",
       "        vertical-align: middle;\n",
       "    }\n",
       "\n",
       "    .dataframe tbody tr th {\n",
       "        vertical-align: top;\n",
       "    }\n",
       "\n",
       "    .dataframe thead th {\n",
       "        text-align: right;\n",
       "    }\n",
       "</style>\n",
       "<table border=\"1\" class=\"dataframe\">\n",
       "  <thead>\n",
       "    <tr style=\"text-align: right;\">\n",
       "      <th></th>\n",
       "      <th>title</th>\n",
       "      <th>composedby</th>\n",
       "      <th>key</th>\n",
       "      <th>timesig</th>\n",
       "      <th>bars</th>\n",
       "      <th>chordprog</th>\n",
       "      <th>chordprog_funcional</th>\n",
       "    </tr>\n",
       "  </thead>\n",
       "  <tbody>\n",
       "    <tr>\n",
       "      <th>0</th>\n",
       "      <td>Lullaby of Birdland</td>\n",
       "      <td>George Shearing</td>\n",
       "      <td>Ab</td>\n",
       "      <td>4 4</td>\n",
       "      <td>32</td>\n",
       "      <td>Fm7 Dm7b5 | G7b9 C7b9 | Fm7 DbM7 | Bbm7 Eb7 |\\...</td>\n",
       "      <td>vi7 #ivø7 | VII7#5#32 III75#32 | vi7 ? | ? #V7...</td>\n",
       "    </tr>\n",
       "    <tr>\n",
       "      <th>1</th>\n",
       "      <td>It's A Most Unusual Day</td>\n",
       "      <td>Jimmy McHugh and HYarold Adamson</td>\n",
       "      <td>G</td>\n",
       "      <td>3 4</td>\n",
       "      <td>72</td>\n",
       "      <td>F#/G F#/G G | Em7 | Am7 | D7 |\\nF#/G F#/G G | ...</td>\n",
       "      <td>VII VII I | vi7 | ii7 | V7 | VII VII I | vi7 |...</td>\n",
       "    </tr>\n",
       "    <tr>\n",
       "      <th>2</th>\n",
       "      <td>Jump Monk</td>\n",
       "      <td>Charles Mingus</td>\n",
       "      <td>Ab</td>\n",
       "      <td>4 4</td>\n",
       "      <td>54</td>\n",
       "      <td>Fm7 DbM7 | G7b5 C7 | Fm7 DbM7 | G7b5 C7 |\\nFm7...</td>\n",
       "      <td>vi7 ? | VIIø75#3 III75#3 | vi7 ? | VIIø75#3 II...</td>\n",
       "    </tr>\n",
       "    <tr>\n",
       "      <th>3</th>\n",
       "      <td>Nuages</td>\n",
       "      <td>Django Reinhardt and Jacques Larme</td>\n",
       "      <td>G</td>\n",
       "      <td>4 4</td>\n",
       "      <td>32</td>\n",
       "      <td>Bbm7 Eb7 | Am7b5 D7b9 | G6 Am7 | Bm7 |\\nBbm7 E...</td>\n",
       "      <td>? VI75#3 | iiø7b53 V753b2 | I65 ii7 | iii7 | ?...</td>\n",
       "    </tr>\n",
       "    <tr>\n",
       "      <th>4</th>\n",
       "      <td>Love Me Do</td>\n",
       "      <td>John Lennon and Paul McCartney</td>\n",
       "      <td>G</td>\n",
       "      <td>4 4</td>\n",
       "      <td>48</td>\n",
       "      <td>G | C | G | C |\\nG | C | C | C |\\nC | G | C | ...</td>\n",
       "      <td>I | IV | I | IV | I | IV | IV | IV | IV | I | ...</td>\n",
       "    </tr>\n",
       "  </tbody>\n",
       "</table>\n",
       "</div>"
      ],
      "text/plain": [
       "                     title                          composedby key timesig  \\\n",
       "0      Lullaby of Birdland                     George Shearing  Ab     4 4   \n",
       "1  It's A Most Unusual Day    Jimmy McHugh and HYarold Adamson   G     3 4   \n",
       "2                Jump Monk                      Charles Mingus  Ab     4 4   \n",
       "3                   Nuages  Django Reinhardt and Jacques Larme   G     4 4   \n",
       "4               Love Me Do      John Lennon and Paul McCartney   G     4 4   \n",
       "\n",
       "   bars                                          chordprog  \\\n",
       "0    32  Fm7 Dm7b5 | G7b9 C7b9 | Fm7 DbM7 | Bbm7 Eb7 |\\...   \n",
       "1    72  F#/G F#/G G | Em7 | Am7 | D7 |\\nF#/G F#/G G | ...   \n",
       "2    54  Fm7 DbM7 | G7b5 C7 | Fm7 DbM7 | G7b5 C7 |\\nFm7...   \n",
       "3    32  Bbm7 Eb7 | Am7b5 D7b9 | G6 Am7 | Bm7 |\\nBbm7 E...   \n",
       "4    48  G | C | G | C |\\nG | C | C | C |\\nC | G | C | ...   \n",
       "\n",
       "                                 chordprog_funcional  \n",
       "0  vi7 #ivø7 | VII7#5#32 III75#32 | vi7 ? | ? #V7...  \n",
       "1  VII VII I | vi7 | ii7 | V7 | VII VII I | vi7 |...  \n",
       "2  vi7 ? | VIIø75#3 III75#3 | vi7 ? | VIIø75#3 II...  \n",
       "3  ? VI75#3 | iiø7b53 V753b2 | I65 ii7 | iii7 | ?...  \n",
       "4  I | IV | I | IV | I | IV | IV | IV | IV | I | ...  "
      ]
     },
     "execution_count": 9,
     "metadata": {},
     "output_type": "execute_result"
    }
   ],
   "source": [
    "df.head()"
   ]
  },
  {
   "cell_type": "markdown",
   "id": "acf4ea12",
   "metadata": {},
   "source": [
    "# Exploramos los resultados de la transcripción masiva con *music21*"
   ]
  },
  {
   "cell_type": "code",
   "execution_count": 15,
   "id": "f13c8c82",
   "metadata": {},
   "outputs": [
    {
     "name": "stdout",
     "output_type": "stream",
     "text": [
      "Total acordes: 134339\n",
      "Acordes no reconocidos (\"?\"): 23320\n",
      "Porcentaje de no reconocidos: 17.36%\n"
     ]
    }
   ],
   "source": [
    "from collections import Counter\n",
    "\n",
    "# Concatenar todos los acordes funcionales en un único texto\n",
    "# sin contar las battas de compas ' | '\n",
    "todo_funcional = \" \".join(\n",
    "    df[\"chordprog_funcional\"]\n",
    "      .dropna()\n",
    "      .str.replace(r\"\\s*\\|\\s*\", \" \", regex=True)  # reemplaza la barra (y espacios alrededor) por un espacio\n",
    "      .str.strip()\n",
    ")\n",
    "\n",
    "# Contar símbolos\n",
    "tokens = todo_funcional.split()\n",
    "total = len(tokens)\n",
    "errores = tokens.count(\"?\")\n",
    "\n",
    "porcentaje_errores = errores / total * 100\n",
    "print(f\"Total acordes: {total}\")\n",
    "print(f\"Acordes no reconocidos (\\\"?\\\"): {errores}\")\n",
    "print(f\"Porcentaje de no reconocidos: {porcentaje_errores:.2f}%\")\n"
   ]
  },
  {
   "cell_type": "code",
   "execution_count": 16,
   "id": "a2d44f42",
   "metadata": {},
   "outputs": [
    {
     "name": "stdout",
     "output_type": "stream",
     "text": [
      "🎵 Total canciones: 2613\n",
      "⚠️ Canciones con errores: 2048 (78.38%)\n",
      "✅ Canciones sin errores: 565\n"
     ]
    }
   ],
   "source": [
    "# Detectar si hay algún \"?\" en la progresión funcional\n",
    "df[\"contiene_error\"] = df[\"chordprog_funcional\"].str.contains(r\"\\?\", na=False)\n",
    "\n",
    "# Resumen\n",
    "total_canciones = len(df)\n",
    "canciones_con_error = df[\"contiene_error\"].sum()\n",
    "canciones_sin_error = total_canciones - canciones_con_error\n",
    "porcentaje_con_error = canciones_con_error / total_canciones * 100\n",
    "\n",
    "print(f\"🎵 Total canciones: {total_canciones}\")\n",
    "print(f\"⚠️ Canciones con errores: {canciones_con_error} ({porcentaje_con_error:.2f}%)\")\n",
    "print(f\"✅ Canciones sin errores: {canciones_sin_error}\")\n"
   ]
  },
  {
   "cell_type": "code",
   "execution_count": 17,
   "id": "e350d3fa",
   "metadata": {},
   "outputs": [
    {
     "name": "stdout",
     "output_type": "stream",
     "text": [
      "🎵 Canciones con un máximo de 3 errores: 1045\n"
     ]
    }
   ],
   "source": [
    "# Función para contar cuántos \"?\" hay en cada progresión funcional\n",
    "def contar_errores(prog):\n",
    "    if isinstance(prog, str):\n",
    "        return prog.split().count(\"?\")\n",
    "    return 0\n",
    "\n",
    "# Aplicar al dataframe\n",
    "df[\"num_errores\"] = df[\"chordprog_funcional\"].apply(contar_errores)\n",
    "\n",
    "# Filtrar canciones con un máximo de 3 errores\n",
    "df_tolerante = df[df[\"num_errores\"] <= 3]\n",
    "\n",
    "# Resultado\n",
    "total_tolerante = len(df_tolerante)\n",
    "print(f\"🎵 Canciones con un máximo de 3 errores: {total_tolerante}\")\n"
   ]
  },
  {
   "cell_type": "markdown",
   "id": "6939a1bd",
   "metadata": {},
   "source": [
    "# Guardamos el dataset con las columnas:\n",
    "- title\n",
    "- composedby\n",
    "- key\n",
    "- timesig\n",
    "- bars\n",
    "- chordprog: progresion original\n",
    "- **chordprog_funcional**: transcripción funcional\n",
    "- **contiene_error**: boolean\n",
    "- **num_errores**: integer\n"
   ]
  },
  {
   "cell_type": "code",
   "execution_count": null,
   "id": "041d2985",
   "metadata": {},
   "outputs": [],
   "source": [
    "# df.to_csv(\"../../data/songdb_funcional_v1_mus21.csv\", index=False)"
   ]
  },
  {
   "cell_type": "markdown",
   "id": "5e587c0b",
   "metadata": {},
   "source": [
    "## Posibles mejores:\n",
    "- Tratamiento de tonalidades menores.\n",
    "- Gestión de acordes no reconocidos."
   ]
  }
 ],
 "metadata": {
  "kernelspec": {
   "display_name": ".venv",
   "language": "python",
   "name": "python3"
  },
  "language_info": {
   "codemirror_mode": {
    "name": "ipython",
    "version": 3
   },
   "file_extension": ".py",
   "mimetype": "text/x-python",
   "name": "python",
   "nbconvert_exporter": "python",
   "pygments_lexer": "ipython3",
   "version": "3.12.2"
  }
 },
 "nbformat": 4,
 "nbformat_minor": 5
}
