{
 "cells": [
  {
   "cell_type": "markdown",
   "id": "c858cb25",
   "metadata": {},
   "source": [
    "[![Open In Colab](https://colab.research.google.com/assets/colab-badge.svg)](https://colab.research.google.com/github/antoniotrapote/chord-prediction-tfm/blob/main/anexos/notebooks/04_reranking/01_reranking.ipynb)\n",
    "[![View on GitHub](https://img.shields.io/badge/View_on-GitHub-black?logo=github)](https://github.com/antoniotrapote/chord-prediction-tfm/blob/main/anexos/notebooks/04_reranking/01_reranking.ipynb)"
   ]
  },
  {
   "cell_type": "markdown",
   "id": "5e847927",
   "metadata": {},
   "source": [
    "# Re-ranking\n",
    "\n",
    "En este notebook se diseñaron las funciones necesarias para implementar un sistema de re-ranking de las predicciones de acordes generadas por nuestro modelo, mejorando así la experiencia del usuario y la calidad de las sugerencias musicales.\n",
    "\n",
    "Objetivos:\n",
    "1. Penalizar repeticiones\n",
    "2. Establecer un filtrado: \"free\", \"diatonic\", \"functional_plus\"\n"
   ]
  },
  {
   "cell_type": "markdown",
   "id": "82d5fec9",
   "metadata": {},
   "source": [
    "## 1) Utilidades de filtrado\n",
    "- _has_accidental() - detecta acordes fuera de la escala diatónica\n",
    "- _is_secondary() - detecta dominantes secundarios y sustitutos\n",
    "- _is_diatonic() - detecta acordes diatónicos (incluye excepción bVII en modo menor)"
   ]
  },
  {
   "cell_type": "code",
   "execution_count": 1,
   "id": "3e70bc31",
   "metadata": {},
   "outputs": [],
   "source": [
    "def _has_accidental(roman: str) -> bool:\n",
    "    # Consideramos alteraciones en el grado (no en tensiones)\n",
    "    # Ej: 'bII', '#iv', 'bVII7', etc.\n",
    "    return roman.startswith(\"b\") or roman.startswith(\"#\")"
   ]
  },
  {
   "cell_type": "code",
   "execution_count": 2,
   "id": "50fa2b98",
   "metadata": {},
   "outputs": [
    {
     "name": "stdout",
     "output_type": "stream",
     "text": [
      "{'bii': True, '#IV': True, 'V/VI': False, 'Vsub/ii': False, 'V7': False, 'vi': False, 'viio': False}\n"
     ]
    }
   ],
   "source": [
    "test = [\"bii\", \"#IV\", \"V/VI\", \"Vsub/ii\", \"V7\", \"vi\", \"viio\"]\n",
    "print({t: _has_accidental(t) for t in test})"
   ]
  },
  {
   "cell_type": "code",
   "execution_count": 3,
   "id": "18ee6015",
   "metadata": {},
   "outputs": [],
   "source": [
    "def _is_secondary(roman: str) -> bool:\n",
    "    \"\"\"\n",
    "    True solo para dominantes secundarios y sustitutos por tritono\n",
    "    codificados como 'V/XX' o 'Vsub/XX'.\n",
    "    \"\"\"\n",
    "    # Normalizamos espacios accidentales\n",
    "    r = roman.strip()\n",
    "    return r.startswith(\"V/\") or r.startswith(\"Vsub/\")"
   ]
  },
  {
   "cell_type": "code",
   "execution_count": 4,
   "id": "ddb464fd",
   "metadata": {},
   "outputs": [
    {
     "name": "stdout",
     "output_type": "stream",
     "text": [
      "{'V/VI': True, 'V/IV': True, 'Vsub/V': True, 'V7': False, 'v': False}\n"
     ]
    }
   ],
   "source": [
    "test = [\"V/VI\", \"V/IV\", \"Vsub/V\", \"V7\", \"v\"]\n",
    "print({t: _is_secondary(t) for t in test})"
   ]
  },
  {
   "cell_type": "code",
   "execution_count": 5,
   "id": "b79438ce",
   "metadata": {},
   "outputs": [],
   "source": [
    "DEGREES_MAJOR = {\"I\",\"ii\",\"iii\",\"IV\",\"V\", \"V7\",\"vi\", \"viio\", \"viiø\"}\n",
    "DEGREES_MINOR = {\"i\",\"iiø\",\"III\",\"iv\",\"v\", \"V\", \"V7\", \"VI\", \"vii\", \"viio\"}\n",
    "\n",
    "BVII_MINOR = {\"bVII\", \"bVII7\"} #Para consderar diatónico el 7º grado de la menor natural\n",
    "\n",
    "def _is_diatonic(roman: str, mode: str) -> bool:\n",
    "    # Excepción: en menor, bVII y bVII7 pasan como diatónicos (antes de filtrar accidentales)\n",
    "    if mode == \"minor\" and roman in BVII_MINOR:\n",
    "        return True\n",
    "    \n",
    "    # Filtro: sin alteraciones (#/b) ni secundarios ('/').\n",
    "    if _has_accidental(roman) or (\"/\" in roman):\n",
    "        return False\n",
    "    \n",
    "    # Comparación directa con set\n",
    "    return roman in (DEGREES_MAJOR if mode == \"major\" else DEGREES_MINOR)"
   ]
  },
  {
   "cell_type": "code",
   "execution_count": 6,
   "id": "47257b6d",
   "metadata": {},
   "outputs": [
    {
     "name": "stdout",
     "output_type": "stream",
     "text": [
      "{'i': True, 'iiø': True, 'III': True, 'iv': True, 'v': True, 'V': True, 'V7': True, 'VI': True, 'vii': True, 'viio': True, 'bVII7': True, 'bVII': True, '#iv': False, 'V/vi': False, 'Vsub/ii': False}\n"
     ]
    }
   ],
   "source": [
    "test = [\"i\", \"iiø\", \"III\", \"iv\", \"v\", \"V\", \"V7\", \"VI\", \"vii\", \"viio\", \"bVII7\", \"bVII\", \"#iv\", \"V/vi\", \"Vsub/ii\", \"V7\"]\n",
    "print({t: _is_diatonic(t, \"minor\") for t in test})"
   ]
  },
  {
   "cell_type": "code",
   "execution_count": 7,
   "id": "82fee532",
   "metadata": {},
   "outputs": [
    {
     "name": "stdout",
     "output_type": "stream",
     "text": [
      "{'I': True, 'ii': True, 'iii': True, 'IV': True, 'V': True, 'V7': True, 'vi': True, 'viiø': True, 'viio': True, 'bVII7': False, '#iv': False, 'V/vi': False, 'Vsub/ii': False}\n"
     ]
    }
   ],
   "source": [
    "test = [\"I\", \"ii\", \"iii\", \"IV\", \"V\", \"V7\", \"vi\", \"viiø\", \"viio\", \"bVII7\", \"#iv\", \"V/vi\", \"Vsub/ii\", \"V7\", \"viio\"]\n",
    "print({t: _is_diatonic(t, \"major\") for t in test})"
   ]
  },
  {
   "cell_type": "markdown",
   "id": "1ccd2eb3",
   "metadata": {},
   "source": [
    "## 2) Reranking"
   ]
  },
  {
   "cell_type": "code",
   "execution_count": 8,
   "id": "563d86fb",
   "metadata": {},
   "outputs": [],
   "source": [
    "def allow_in_functional_plus(roman: str, mode: str) -> bool:\n",
    "    \"\"\"\n",
    "    Funcional+: diatónicos + (V/xx, Vsub/xx).\n",
    "    \"\"\"\n",
    "    return _is_diatonic(roman, mode) or _is_secondary(roman)"
   ]
  },
  {
   "cell_type": "code",
   "execution_count": 9,
   "id": "65710432",
   "metadata": {},
   "outputs": [
    {
     "name": "stdout",
     "output_type": "stream",
     "text": [
      "{'I': True, 'ii': True, 'iii': True, 'IV': True, 'v': False, 'V': True, 'V7': True, 'vi': True, 'viiø': True, 'viio': True, 'V/vi': True, 'Vsub/ii': True, 'bVII': False, '#iv': False}\n"
     ]
    }
   ],
   "source": [
    "test = [\"I\", \"ii\", \"iii\", \"IV\", \"v\", \"V\", \"V7\", \"vi\", \"viiø\", \"viio\", \"V/vi\", \"Vsub/ii\",  \"bVII\", \"#iv\"]\n",
    "print({t: allow_in_functional_plus(t, \"major\") for t in test})"
   ]
  },
  {
   "cell_type": "code",
   "execution_count": 10,
   "id": "4c8bf9db",
   "metadata": {},
   "outputs": [
    {
     "name": "stdout",
     "output_type": "stream",
     "text": [
      "{'i': True, 'iiø': True, 'III': True, 'iv': True, 'v': True, 'V': True, 'V7': True, 'VI': True, 'vii': True, 'viio': True, 'bVII7': True, 'bVII': True, 'V/vi': True, 'Vsub/ii': True, '#iv': False, 'bii': False}\n"
     ]
    }
   ],
   "source": [
    "test = [\"i\", \"iiø\", \"III\", \"iv\", \"v\", \"V\", \"V7\", \"VI\", \"vii\", \"viio\", \"bVII7\", \"bVII\", \"V/vi\", \"Vsub/ii\", \"V7\", \"#iv\", \"bii\"]\n",
    "print({t: allow_in_functional_plus(t, \"minor\") for t in test})"
   ]
  },
  {
   "cell_type": "code",
   "execution_count": 11,
   "id": "a18ff815",
   "metadata": {},
   "outputs": [],
   "source": [
    "from typing import List, Literal, Tuple\n",
    "\n",
    "def rerank(\n",
    "    candidates: List[Tuple[str, float]],\n",
    "    recent_context: List[str],\n",
    "    mode: str,\n",
    "    filter_mode: Literal[\"free\",\"diatonic\",\"functional_plus\"] = \"free\",\n",
    "    alpha_repeat: float = 0.25,   # penalización por repetición [0..1]\n",
    "    rep_window: int = 2,          # ventana de repetición\n",
    "    beta_filter: float = 0.15,    # atenuación en vez de knockout si deseas filtro \"blando\"\n",
    "    hard_filter: bool = True      # True = elimina (prob=0); False = downweight\n",
    ") -> List[Tuple[str,float]]:\n",
    "    last_window = recent_context[-rep_window:] if rep_window > 0 else []\n",
    "    scored = []\n",
    "    for tok, p in candidates:\n",
    "        score = p\n",
    "\n",
    "        # Anti-repeat: penaliza si ya aparece en la ventana reciente\n",
    "        if tok in last_window and alpha_repeat > 0:\n",
    "            score *= (1.0 - alpha_repeat)\n",
    "\n",
    "        # Filtro por modo\n",
    "        allowed = True\n",
    "        if filter_mode == \"diatonic\":\n",
    "            allowed = _is_diatonic(tok, mode)\n",
    "        elif filter_mode == \"functional_plus\":\n",
    "            allowed = allow_in_functional_plus(tok, mode)\n",
    "\n",
    "        if not allowed:\n",
    "            if hard_filter:\n",
    "                score = 0.0\n",
    "            else:\n",
    "                score *= beta_filter\n",
    "\n",
    "        scored.append((tok, max(0.0, score)))\n",
    "\n",
    "    # Renormalizamos para preservar una distribución interpretable\n",
    "    total = sum(s for _, s in scored)\n",
    "    if total > 0:\n",
    "        scored = [(t, s/total) for t, s in scored]\n",
    "    # Reordenamos\n",
    "    scored.sort(key=lambda x: x[1], reverse=True)\n",
    "    return scored"
   ]
  },
  {
   "cell_type": "code",
   "execution_count": 12,
   "id": "db569ffc",
   "metadata": {},
   "outputs": [
    {
     "name": "stdout",
     "output_type": "stream",
     "text": [
      "=== TEST: MODE=MAJOR ===\n",
      "\n",
      "Base / free\n",
      "-----------\n",
      "I         0.300\n",
      "V7        0.250\n",
      "ii        0.150\n",
      "V/ii      0.120\n",
      "bVII7     0.100\n",
      "bII       0.080\n",
      "sum = 1.000\n",
      "\n",
      "Anti-repeat (rep_window=2, alpha=0.5)\n",
      "-------------------------------------\n",
      "I         0.207\n",
      "ii        0.207\n",
      "V7        0.172\n",
      "V/ii      0.166\n",
      "bVII7     0.138\n",
      "bII       0.110\n",
      "sum = 1.000\n",
      "\n",
      "Diatonic (hard_filter=True)\n",
      "---------------------------\n",
      "I         0.429\n",
      "V7        0.357\n",
      "ii        0.214\n",
      "V/ii      0.000\n",
      "bVII7     0.000\n",
      "bII       0.000\n",
      "sum = 1.000\n",
      "\n",
      "Functional+ (hard_filter=False, beta=0.2)\n",
      "-----------------------------------------\n",
      "I         0.350\n",
      "V7        0.292\n",
      "ii        0.175\n",
      "V/ii      0.140\n",
      "bVII7     0.023\n",
      "bII       0.019\n",
      "sum = 1.000\n",
      "\n",
      "=== TEST: MODE=MINOR ===\n",
      "\n",
      "Base / free\n",
      "-----------\n",
      "I         0.300\n",
      "V7        0.250\n",
      "ii        0.150\n",
      "V/ii      0.120\n",
      "bVII7     0.100\n",
      "bII       0.080\n",
      "sum = 1.000\n",
      "\n",
      "Diatonic (minor, bVII7 permitido)\n",
      "---------------------------------\n",
      "V7        0.714\n",
      "bVII7     0.286\n",
      "I         0.000\n",
      "ii        0.000\n",
      "V/ii      0.000\n",
      "bII       0.000\n",
      "sum = 1.000\n",
      "\n",
      "Functional+ (permitirá también V/ii)\n",
      "------------------------------------\n",
      "V7        0.532\n",
      "V/ii      0.255\n",
      "bVII7     0.213\n",
      "I         0.000\n",
      "ii        0.000\n",
      "bII       0.000\n",
      "sum = 1.000\n",
      "\n",
      "Extremo (todo fuera): mayor + diatonic\n",
      "--------------------------------------\n",
      "V/ii      0.000\n",
      "bII       0.000\n",
      "sum = 0.000\n",
      ">> Aviso: todos los candidatos fueron filtrados (prob=0).\n"
     ]
    }
   ],
   "source": [
    "#@title Testeamos el re-ranking\n",
    "\n",
    "# --- Utilidad de impresión ---\n",
    "def show(title, out):\n",
    "    print(f\"\\n{title}\")\n",
    "    print(\"-\"*len(title))\n",
    "    s = sum(p for _, p in out)\n",
    "    for t, p in out:\n",
    "        print(f\"{t:8s}  {p:0.3f}\")\n",
    "    print(f\"sum = {s:0.3f}\")\n",
    "\n",
    "# --- Candidatos de prueba ---\n",
    "candidates = [\n",
    "    (\"I\",     0.30),\n",
    "    (\"V7\",    0.25),\n",
    "    (\"ii\",    0.15),\n",
    "    (\"V/ii\",  0.12),\n",
    "    (\"bVII7\", 0.10),\n",
    "    (\"bII\",   0.08),\n",
    "]\n",
    "\n",
    "# --- Escenarios de prueba ---\n",
    "\n",
    "# 1) Modo mayor, contexto reciente con 'V7' para ver anti-repeat\n",
    "context_M = [\"ii\", \"V7\", \"I\"]\n",
    "print(\"=== TEST: MODE=MAJOR ===\")\n",
    "show(\"Base / free\", rerank(candidates, context_M, mode=\"major\",\n",
    "                           filter_mode=\"free\", alpha_repeat=0.0))\n",
    "show(\"Anti-repeat (rep_window=2, alpha=0.5)\", rerank(candidates, context_M, mode=\"major\",\n",
    "                           filter_mode=\"free\", alpha_repeat=0.5, rep_window=2))\n",
    "show(\"Diatonic (hard_filter=True)\", rerank(candidates, context_M, mode=\"major\",\n",
    "                           filter_mode=\"diatonic\", alpha_repeat=0.0, hard_filter=True))\n",
    "show(\"Functional+ (hard_filter=False, beta=0.2)\", rerank(candidates, context_M, mode=\"major\",\n",
    "                           filter_mode=\"functional_plus\", alpha_repeat=0.0, hard_filter=False, beta_filter=0.2))\n",
    "\n",
    "# 2) Modo menor, donde bVII7 es considerado diatónico por excepción\n",
    "context_m = [\"iv\", \"V7\", \"i\"]\n",
    "print(\"\\n=== TEST: MODE=MINOR ===\")\n",
    "show(\"Base / free\", rerank(candidates, context_m, mode=\"minor\",\n",
    "                           filter_mode=\"free\", alpha_repeat=0.0))\n",
    "show(\"Diatonic (minor, bVII7 permitido)\", rerank(candidates, context_m, mode=\"minor\",\n",
    "                           filter_mode=\"diatonic\", alpha_repeat=0.0, hard_filter=True))\n",
    "show(\"Functional+ (permitirá también V/ii)\", rerank(candidates, context_m, mode=\"minor\",\n",
    "                           filter_mode=\"functional_plus\", alpha_repeat=0.0, hard_filter=True))\n",
    "\n",
    "# 3) Caso extremo: todo filtrado (ej. mayor + diatonic con candidatos solo secundarios/alterados)\n",
    "cands_extremos = [(\"V/ii\", 0.6), (\"bII\", 0.4)]\n",
    "out_ext = rerank(cands_extremos, context_M, mode=\"major\", filter_mode=\"diatonic\", hard_filter=True)\n",
    "show(\"Extremo (todo fuera): mayor + diatonic\", out_ext)\n",
    "if sum(p for _, p in out_ext) == 0.0:\n",
    "    print(\">> Aviso: todos los candidatos fueron filtrados (prob=0).\")"
   ]
  }
 ],
 "metadata": {
  "kernelspec": {
   "display_name": ".venv",
   "language": "python",
   "name": "python3"
  },
  "language_info": {
   "codemirror_mode": {
    "name": "ipython",
    "version": 3
   },
   "file_extension": ".py",
   "mimetype": "text/x-python",
   "name": "python",
   "nbconvert_exporter": "python",
   "pygments_lexer": "ipython3",
   "version": "3.12.2"
  }
 },
 "nbformat": 4,
 "nbformat_minor": 5
}
